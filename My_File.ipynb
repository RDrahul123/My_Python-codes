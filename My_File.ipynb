{
 "cells": [
  {
   "cell_type": "markdown",
   "metadata": {},
   "source": [
    "# Heading!!\n",
    "## Markdown Subheading\n",
    "### Markdown Paragraph"
   ]
  },
  {
   "cell_type": "code",
   "execution_count": 1,
   "metadata": {},
   "outputs": [
    {
     "name": "stdout",
     "output_type": "stream",
     "text": [
      "Hello World\n",
      "Nameste Duniya\n"
     ]
    }
   ],
   "source": [
    "print(\"Hello World\")\n",
    "print(\"Nameste Duniya\")"
   ]
  },
  {
   "cell_type": "markdown",
   "metadata": {},
   "source": [
    "\n",
    "\n",
    "\n",
    "# Sum of two Numbers"
   ]
  },
  {
   "cell_type": "code",
   "execution_count": 2,
   "metadata": {},
   "outputs": [
    {
     "name": "stdout",
     "output_type": "stream",
     "text": [
      "17\n"
     ]
    }
   ],
   "source": [
    "x=9\n",
    "y=8\n",
    "print(x+y)"
   ]
  },
  {
   "cell_type": "markdown",
   "metadata": {},
   "source": [
    "# List Operations"
   ]
  },
  {
   "cell_type": "code",
   "execution_count": 3,
   "metadata": {},
   "outputs": [
    {
     "name": "stdout",
     "output_type": "stream",
     "text": [
      "[1, 2, 3, 4, 5]\n",
      "[1, 2, 3, 4, 5, 6]\n",
      "[1, 2, 4, 5, 6]\n",
      "[1, 2, 3, 4, 5, 6]\n"
     ]
    }
   ],
   "source": [
    "mylist= [1,2,3,4,5]\n",
    "print(mylist)\n",
    "mylist.append(6)\n",
    "print(mylist)\n",
    "mylist.remove(3)\n",
    "print(mylist)\n",
    "mylist.insert(2,3)\n",
    "print(mylist)"
   ]
  },
  {
   "cell_type": "markdown",
   "metadata": {},
   "source": [
    "# Tuple Operations"
   ]
  },
  {
   "cell_type": "code",
   "execution_count": 4,
   "metadata": {},
   "outputs": [
    {
     "name": "stdout",
     "output_type": "stream",
     "text": [
      "(1, 2, 3, 4, 5)\n",
      "3\n",
      "(1, 2, 3, 4, 5, 6)\n",
      "1\n",
      "2\n"
     ]
    }
   ],
   "source": [
    "mytuple= (1,2,3,4,5)\n",
    "print(mytuple)\n",
    "print(mytuple[2])\n",
    "mytuple= mytuple + (6,)\n",
    "print(mytuple)\n",
    "print(mytuple.count(3))\n",
    "print(mytuple.index(3))"
   ]
  },
  {
   "cell_type": "markdown",
   "metadata": {},
   "source": [
    "# Dictionaries Operations"
   ]
  },
  {
   "cell_type": "code",
   "execution_count": 5,
   "metadata": {},
   "outputs": [
    {
     "name": "stdout",
     "output_type": "stream",
     "text": [
      "{'a': 1, 'b': 2, 'c': 3}\n",
      "{'a': 1, 'b': 2, 'c': 3, 'd': 4}\n"
     ]
    }
   ],
   "source": [
    "mydict= {'a':1, 'b':2, 'c':3}\n",
    "print(mydict)\n",
    "mydict.update({'d': 4})\n",
    "print(mydict)"
   ]
  },
  {
   "cell_type": "markdown",
   "metadata": {},
   "source": [
    "# Numpy"
   ]
  },
  {
   "cell_type": "code",
   "execution_count": 6,
   "metadata": {},
   "outputs": [],
   "source": [
    "import numpy as np\n"
   ]
  },
  {
   "cell_type": "code",
   "execution_count": 7,
   "metadata": {},
   "outputs": [
    {
     "name": "stdout",
     "output_type": "stream",
     "text": [
      "[1 2 3]\n",
      "['1' '2' '3']\n",
      "1\n",
      "1\n"
     ]
    }
   ],
   "source": [
    "list1= np.array([1, 2, 3]) \n",
    "tuple1= np.array((\"1\", \"2\", \"3\"))\n",
    "print(list1)\n",
    "print(tuple1)\n",
    "print(list1.ndim)\n",
    "print(tuple1.ndim)"
   ]
  },
  {
   "cell_type": "code",
   "execution_count": 8,
   "metadata": {},
   "outputs": [
    {
     "name": "stdout",
     "output_type": "stream",
     "text": [
      "<class 'numpy.ndarray'>\n",
      "int32\n"
     ]
    }
   ],
   "source": [
    "print(type(list1))\n",
    "print(list1.dtype)"
   ]
  },
  {
   "cell_type": "code",
   "execution_count": 9,
   "metadata": {},
   "outputs": [
    {
     "name": "stdout",
     "output_type": "stream",
     "text": [
      "3\n"
     ]
    }
   ],
   "source": [
    "list2= np.array([\"1\", \"2\", \"5\"], dtype= \"i\")\n",
    "print(list1[2])"
   ]
  },
  {
   "cell_type": "code",
   "execution_count": 10,
   "metadata": {},
   "outputs": [
    {
     "name": "stdout",
     "output_type": "stream",
     "text": [
      "[1 2 3]\n",
      "[5 2 3]\n"
     ]
    }
   ],
   "source": [
    "list2= list1.copy()\n",
    "list2[0]= 5\n",
    "print(list1)\n",
    "print(list2)"
   ]
  },
  {
   "cell_type": "code",
   "execution_count": 11,
   "metadata": {},
   "outputs": [
    {
     "name": "stdout",
     "output_type": "stream",
     "text": [
      "[7 2 3]\n",
      "[7 2 3]\n"
     ]
    }
   ],
   "source": [
    "list3= list2.view()\n",
    "list3[0]= 7\n",
    "print(list3)\n",
    "print(list2)"
   ]
  },
  {
   "cell_type": "code",
   "execution_count": 12,
   "metadata": {},
   "outputs": [
    {
     "name": "stdout",
     "output_type": "stream",
     "text": [
      "[[ 1  2  3]\n",
      " [ 4  5  6]\n",
      " [ 7  8  9]\n",
      " [10 11 12]]\n"
     ]
    }
   ],
   "source": [
    "list4= np.array((1, 2, 3, 4, 5, 6, 7, 8, 9, 10, 11, 12))\n",
    "newarray= list4.reshape(4,3)\n",
    "print(newarray)\n",
    "#newarray= list4.reshape(-1)\n",
    "#print(newarray)"
   ]
  },
  {
   "cell_type": "code",
   "execution_count": 13,
   "metadata": {},
   "outputs": [
    {
     "name": "stdout",
     "output_type": "stream",
     "text": [
      "[[ 3  2  1]\n",
      " [ 6  5  4]\n",
      " [ 9  8  7]\n",
      " [12 11 10]]\n"
     ]
    }
   ],
   "source": [
    "newarray[:, [2,0]]= newarray[:, [0,2]]\n",
    "print(newarray)"
   ]
  },
  {
   "cell_type": "code",
   "execution_count": 14,
   "metadata": {},
   "outputs": [
    {
     "name": "stdout",
     "output_type": "stream",
     "text": [
      "[0 1 2 3 4 5 6 7 8]\n"
     ]
    }
   ],
   "source": [
    "sortarray= np.array([3, 2, 0, 1, 8, 6, 4, 5, 7])\n",
    "print(np.sort(sortarray))"
   ]
  },
  {
   "cell_type": "code",
   "execution_count": 15,
   "metadata": {},
   "outputs": [
    {
     "name": "stdout",
     "output_type": "stream",
     "text": [
      "['Aman' 'Aman' 'Diya' 'Lakshy' 'Nandini' 'Rahul']\n"
     ]
    }
   ],
   "source": [
    "sortarr= np.array(['Lakshy', 'Aman', 'Nandini', 'Diya', 'Rahul', 'Aman'])\n",
    "print(np.sort(sortarr))"
   ]
  },
  {
   "cell_type": "code",
   "execution_count": 16,
   "metadata": {},
   "outputs": [
    {
     "name": "stdout",
     "output_type": "stream",
     "text": [
      "['Lakshy' 'Shyam']\n",
      "['Diya' 'Shyam' 'Aman' 'Lakshy']\n"
     ]
    }
   ],
   "source": [
    "sortarr= np.array(['Lakshy', 'Aman', 'Shyam', 'Diya'])\n",
    "x= [True, False, True, False]\n",
    "newarr= sortarr[x]\n",
    "print(newarr)\n",
    "#print(\"Reverse Order:\" ,sortarr[::-1])\n",
    "print(np.flip(sortarr, axis=0))"
   ]
  },
  {
   "cell_type": "code",
   "execution_count": 17,
   "metadata": {},
   "outputs": [
    {
     "name": "stdout",
     "output_type": "stream",
     "text": [
      "[ 6  7  8  9 10]\n"
     ]
    }
   ],
   "source": [
    "arr4= np.array([1, 2, 3, 4, 5, 6, 7, 8, 9, 10])\n",
    "condition= arr4>5\n",
    "newarr= arr4[condition]\n",
    "print(newarr)"
   ]
  },
  {
   "cell_type": "code",
   "execution_count": 18,
   "metadata": {},
   "outputs": [
    {
     "name": "stdout",
     "output_type": "stream",
     "text": [
      "9\n",
      "-3\n",
      "18\n",
      "0.5\n",
      "3\n"
     ]
    }
   ],
   "source": [
    "print(arr4[2]+ arr4[5])\n",
    "print(arr4[2]- arr4[5])\n",
    "print(arr4[2]* arr4[5])\n",
    "print(arr4[2]/ arr4[5])\n",
    "print(arr4[2]% arr4[5])"
   ]
  },
  {
   "cell_type": "code",
   "execution_count": 19,
   "metadata": {},
   "outputs": [
    {
     "name": "stdout",
     "output_type": "stream",
     "text": [
      "[ 7  9 11 13 15]\n",
      "[ 1  2  3  4  5  6  7  8  9 10]\n"
     ]
    }
   ],
   "source": [
    "arr5= np.array([1, 2, 3, 4, 5])\n",
    "arr6= np.array([6, 7, 8, 9, 10])\n",
    "print(np.add(arr5, arr6))  #Addition \n",
    "print(np.concatenate((arr5, arr6))) #Concatenation\n"
   ]
  },
  {
   "cell_type": "markdown",
   "metadata": {},
   "source": [
    "There is a difference between add and concate. Remember add function actually performs addition addition while concate function combines the values of an array."
   ]
  },
  {
   "cell_type": "code",
   "execution_count": 20,
   "metadata": {},
   "outputs": [
    {
     "name": "stdout",
     "output_type": "stream",
     "text": [
      "[1 4 2 3 5]\n",
      "[1 4 2 3 5]\n",
      "[1 4 2 3 5]\n"
     ]
    }
   ],
   "source": [
    "from numpy import random\n",
    "random.shuffle(arr5)\n",
    "print(arr5)\n",
    "random.permutation(arr5)\n",
    "print(arr5)\n",
    "print(arr5)"
   ]
  },
  {
   "cell_type": "code",
   "execution_count": 21,
   "metadata": {},
   "outputs": [
    {
     "name": "stdout",
     "output_type": "stream",
     "text": [
      "[array([1, 2, 3, 4, 5]), array([ 6,  7,  8,  9, 10]), array([10, 11, 12, 12, 12]), array([13, 14, 15, 16, 17]), array([18, 19, 20, 21, 22])]\n",
      "(25,)\n",
      "[22 21 20 19 18 17 16 15 14 13 12 12 12 11 10 10  9  8  7  6  5  4  3  2\n",
      "  1]\n",
      "[ 1  2  3  4  5  6  7  8  9 10 11 12 13 14 15 16 17 18 19 20 21 22]\n"
     ]
    }
   ],
   "source": [
    "arr7= np.array([1, 2, 3, 4, 5, 6, 7, 8, 9, 10, 10, 11, 12, 12, 12, 13, 14, 15, 16, 17, 18, 19, 20, 21, 22])\n",
    "print(np.split(arr7, 5))\n",
    "print(arr7.shape)\n",
    "print(np.flip(arr7))\n",
    "print(np.unique(arr7))"
   ]
  },
  {
   "cell_type": "code",
   "execution_count": 22,
   "metadata": {},
   "outputs": [
    {
     "name": "stdout",
     "output_type": "stream",
     "text": [
      "[ 1.  2.  3.  4.  5.  6.  7.  8.  9. 10. 10. 11. 12. 12. 12. 13. 14. 15.\n",
      " 16. 17. 18. 19. 20. 21. 22.]\n"
     ]
    }
   ],
   "source": [
    "np.savetxt('newfile4.csv', arr7)\n",
    "arr8= np.loadtxt('newfile4.csv')\n",
    "print(arr8)\n",
    "# print(np.load('newfile.npy'))"
   ]
  },
  {
   "cell_type": "markdown",
   "metadata": {},
   "source": [
    "## Leniar Algebra Operations"
   ]
  },
  {
   "cell_type": "code",
   "execution_count": 23,
   "metadata": {},
   "outputs": [
    {
     "name": "stdout",
     "output_type": "stream",
     "text": [
      "-2.9999999999999996\n",
      "[[-1.66666667  0.66666667]\n",
      " [ 1.33333333 -0.33333333]]\n",
      "2\n"
     ]
    }
   ],
   "source": [
    "from numpy import linalg\n",
    "# import numpy as np\n",
    "a= np.array([[1, 2], [4, 5]])\n",
    "b= np.array([[7, 8], [10, 11]])\n",
    "\n",
    "# print(np.dot(a, b))\n",
    "# print(np.matmul(a, b))\n",
    "print(np.linalg.det(a))\n",
    "print(np.linalg.inv(a))\n",
    "print(np.linalg.matrix_rank(a))"
   ]
  },
  {
   "cell_type": "markdown",
   "metadata": {},
   "source": [
    "## np.randon.seed\n",
    "\n",
    "The np.random.seed() function is crucial for ensuring reproducibility in your code when generating random numbers. Without setting a seed, NumPy will produce different random numbers every time you run the code."
   ]
  },
  {
   "cell_type": "code",
   "execution_count": 24,
   "metadata": {},
   "outputs": [
    {
     "name": "stdout",
     "output_type": "stream",
     "text": [
      "[[ 1.62434536 -0.61175641 -0.52817175]\n",
      " [-1.07296862  0.86540763 -2.3015387 ]\n",
      " [ 1.74481176 -0.7612069   0.3190391 ]]\n",
      "[[3 5 8]\n",
      " [8 2 8]\n",
      " [1 7 8]]\n",
      "['e' 'e' 'a' 'u']\n"
     ]
    }
   ],
   "source": [
    "np.random.seed(1)          # Ensures reproducibility\n",
    "#print(np.random.rand(3, 3)) # Uniform distribution\n",
    "print(np.random.randn(3, 3))# Normal distribution\n",
    "print(np.random.randint(1, 10, (3, 3))) # Random integers\n",
    "print(np.random.choice(['a', 'e', 'i', 'o', 'u'], 4)) # Random choice"
   ]
  },
  {
   "cell_type": "code",
   "execution_count": 25,
   "metadata": {},
   "outputs": [
    {
     "name": "stdout",
     "output_type": "stream",
     "text": [
      "[[2 1 1]\n",
      " [4 3 2]\n",
      " [1 4 2]]\n",
      "[5 3 1 4 2]\n"
     ]
    }
   ],
   "source": [
    "print(np.random.choice([1, 2, 3, 4, 5], size= (3, 3))) # Random choice\n",
    "print(np.random.permutation([1, 2, 3, 4, 5])) # Random permutation"
   ]
  },
  {
   "cell_type": "code",
   "execution_count": 26,
   "metadata": {},
   "outputs": [
    {
     "name": "stdout",
     "output_type": "stream",
     "text": [
      "Loaded Array:\n",
      "[ 1.  2.  3.  4.  5.  6.  7.  8.  9. 10. 10. 11. 12. 12. 12. 13. 14. 15.\n",
      " 16. 17. 18. 19. 20. 21. 22.]\n",
      "Loaded Array:\n",
      "[ 1  2  3  4  5  6  7  8  9 10 10 11 12 12 12 13 14 15 16 17 18 19 20 21\n",
      " 22]\n"
     ]
    }
   ],
   "source": [
    "# Save an array to a CSV file\n",
    "np.savetxt('array_data.csv', arr7, delimiter=',')\n",
    "\n",
    "# Load the array back from the CSV file\n",
    "loaded_array = np.loadtxt('array_data.csv', delimiter=',')\n",
    "print(\"Loaded Array:\")\n",
    "print(loaded_array)\n",
    "\n",
    "np.save('array_data.npy', arr7) # Save an array to a binary file\n",
    "loaded_array = np.load('array_data.npy') # Load the array back from the binary file\n",
    "print(\"Loaded Array:\")\n",
    "print(loaded_array)"
   ]
  },
  {
   "cell_type": "code",
   "execution_count": 27,
   "metadata": {},
   "outputs": [
    {
     "name": "stdout",
     "output_type": "stream",
     "text": [
      "56.0\n",
      "3.5\n",
      "21\n"
     ]
    }
   ],
   "source": [
    "arr56= np.array([1, 2, 3, 4, 5, 6])\n",
    "print(np.mean(56))\n",
    "print(np.median(arr56))\n",
    "print(np.sum(arr56))"
   ]
  },
  {
   "cell_type": "markdown",
   "metadata": {},
   "source": [
    "# Pandas"
   ]
  },
  {
   "cell_type": "markdown",
   "metadata": {},
   "source": [
    "In pandas data is stored in the format of Dictionary and hence key value pairs are required. On the other hand data shown in the output is in the form of table for better understability and apperance. "
   ]
  },
  {
   "cell_type": "code",
   "execution_count": 28,
   "metadata": {},
   "outputs": [],
   "source": [
    "import pandas as pd"
   ]
  },
  {
   "cell_type": "code",
   "execution_count": 29,
   "metadata": {},
   "outputs": [
    {
     "name": "stdout",
     "output_type": "stream",
     "text": [
      "    Name Age    City\n",
      "0  Rahul  26  Indore\n",
      "1    Ram  14    Pune\n",
      "2  shyam  17  Mumbai\n"
     ]
    }
   ],
   "source": [
    "dict= { 'Name': ['Rahul' , 'Ram', 'shyam'], \n",
    "       'Age': ['26', '14', '17'],\n",
    "       'City': ['Indore', 'Pune', 'Mumbai']\n",
    "}\n",
    "\n",
    "a= pd.DataFrame(dict)\n",
    "print(a)"
   ]
  },
  {
   "cell_type": "code",
   "execution_count": 30,
   "metadata": {},
   "outputs": [
    {
     "name": "stdout",
     "output_type": "stream",
     "text": [
      "1    10\n",
      "2    20\n",
      "3    30\n",
      "4    40\n",
      "5    50\n",
      "dtype: int64\n"
     ]
    }
   ],
   "source": [
    "data= [10, 20, 30, 40, 50]\n",
    "series= pd.Series(data, index=[1, 2, 3, 4, 5])\n",
    "print(series)"
   ]
  },
  {
   "cell_type": "code",
   "execution_count": 31,
   "metadata": {},
   "outputs": [
    {
     "name": "stdout",
     "output_type": "stream",
     "text": [
      "      Name  Age         City Gender\n",
      "a    Alice   25     New York      M\n",
      "b      Bob   30  Los Angeles      M\n",
      "c  Charlie   35      Chicago      F\n"
     ]
    }
   ],
   "source": [
    "data = {\n",
    "    'Name': ['Alice', 'Bob', 'Charlie'],\n",
    "    'Age': [25, 30, 35],\n",
    "    'City': ['New York', 'Los Angeles', 'Chicago'], \n",
    "    'Gender': ['M', 'M', 'F']\n",
    "}\n",
    "\n",
    "df = pd.DataFrame(data, index=['a', 'b', 'c'])\n",
    "print(df)"
   ]
  },
  {
   "cell_type": "markdown",
   "metadata": {},
   "source": [
    "# Operations on DataFrame"
   ]
  },
  {
   "cell_type": "code",
   "execution_count": 32,
   "metadata": {},
   "outputs": [
    {
     "name": "stdout",
     "output_type": "stream",
     "text": [
      "      Name  Age         City Gender\n",
      "a    Alice   25     New York      M\n",
      "b      Bob   30  Los Angeles      M\n",
      "c  Charlie   35      Chicago      F\n"
     ]
    }
   ],
   "source": [
    "print(df.head()) # Display the first 5 rows of the DataFrame"
   ]
  },
  {
   "cell_type": "code",
   "execution_count": 33,
   "metadata": {},
   "outputs": [
    {
     "name": "stdout",
     "output_type": "stream",
     "text": [
      "      Name  Age         City Gender\n",
      "a    Alice   25     New York      M\n",
      "b      Bob   30  Los Angeles      M\n",
      "c  Charlie   35      Chicago      F\n"
     ]
    }
   ],
   "source": [
    "print(df.tail()) # Display the last 5 rows of the DataFrame "
   ]
  },
  {
   "cell_type": "code",
   "execution_count": 34,
   "metadata": {},
   "outputs": [
    {
     "name": "stdout",
     "output_type": "stream",
     "text": [
      "<class 'pandas.core.frame.DataFrame'>\n",
      "Index: 3 entries, a to c\n",
      "Data columns (total 4 columns):\n",
      " #   Column  Non-Null Count  Dtype \n",
      "---  ------  --------------  ----- \n",
      " 0   Name    3 non-null      object\n",
      " 1   Age     3 non-null      int64 \n",
      " 2   City    3 non-null      object\n",
      " 3   Gender  3 non-null      object\n",
      "dtypes: int64(1), object(3)\n",
      "memory usage: 120.0+ bytes\n",
      "None\n"
     ]
    }
   ],
   "source": [
    "print(df.info()) # Display information about the DataFrame"
   ]
  },
  {
   "cell_type": "code",
   "execution_count": 35,
   "metadata": {},
   "outputs": [
    {
     "name": "stdout",
     "output_type": "stream",
     "text": [
      "        Age\n",
      "count   3.0\n",
      "mean   30.0\n",
      "std     5.0\n",
      "min    25.0\n",
      "25%    27.5\n",
      "50%    30.0\n",
      "75%    32.5\n",
      "max    35.0\n"
     ]
    }
   ],
   "source": [
    "print(df.describe()) # Display summary statistics of the DataFrame"
   ]
  },
  {
   "cell_type": "code",
   "execution_count": 36,
   "metadata": {},
   "outputs": [
    {
     "name": "stdout",
     "output_type": "stream",
     "text": [
      "Name         Alice\n",
      "Age             25\n",
      "City      New York\n",
      "Gender           M\n",
      "Name: a, dtype: object\n"
     ]
    }
   ],
   "source": [
    "print(df.loc['a']) # Access row by label"
   ]
  },
  {
   "cell_type": "code",
   "execution_count": 37,
   "metadata": {},
   "outputs": [
    {
     "name": "stdout",
     "output_type": "stream",
     "text": [
      "a    False\n",
      "b    False\n",
      "c     True\n",
      "Name: Age, dtype: bool\n"
     ]
    }
   ],
   "source": [
    "print(df['Age']>30) # Boolean indexing"
   ]
  },
  {
   "cell_type": "code",
   "execution_count": 38,
   "metadata": {},
   "outputs": [
    {
     "name": "stdout",
     "output_type": "stream",
     "text": [
      "      Name  Age     City Gender\n",
      "c  Charlie   35  Chicago      F\n"
     ]
    }
   ],
   "source": [
    "print(df[df['Age']>30]) # Filter rows based on condition"
   ]
  },
  {
   "cell_type": "code",
   "execution_count": 39,
   "metadata": {},
   "outputs": [
    {
     "name": "stdout",
     "output_type": "stream",
     "text": [
      "Name         Alice\n",
      "Age             25\n",
      "City      New York\n",
      "Gender           M\n",
      "Name: a, dtype: object\n"
     ]
    }
   ],
   "source": [
    "print(df.iloc[0]) # Access row by index position\n",
    "# print(df.iloc[1]) # Access row by index position"
   ]
  },
  {
   "cell_type": "code",
   "execution_count": 40,
   "metadata": {},
   "outputs": [
    {
     "name": "stdout",
     "output_type": "stream",
     "text": [
      "    Name  Age         City Gender\n",
      "a  Alice   25     New York      M\n",
      "b    Bob   30  Los Angeles      M\n"
     ]
    }
   ],
   "source": [
    "print(df.iloc[0:2]) # Access multiple rows by index position    "
   ]
  },
  {
   "cell_type": "code",
   "execution_count": 41,
   "metadata": {},
   "outputs": [
    {
     "name": "stdout",
     "output_type": "stream",
     "text": [
      "a    25\n",
      "b    30\n",
      "c    35\n",
      "Name: Age, dtype: int64\n",
      "   Age         City\n",
      "a   25     New York\n",
      "b   30  Los Angeles\n",
      "c   35      Chicago\n"
     ]
    }
   ],
   "source": [
    "print(df.iloc[:, 1]) # Access a specific column by index position\n",
    "print(df.iloc[:, 1:3]) # Access multiple columns by index position"
   ]
  },
  {
   "cell_type": "markdown",
   "metadata": {},
   "source": [
    "# Reading Json file\n",
    "Here we are going to read a json file Top 100 Largest Banks.json and then will perform data manipulation in this json file. "
   ]
  },
  {
   "cell_type": "code",
   "execution_count": 42,
   "metadata": {},
   "outputs": [
    {
     "name": "stdout",
     "output_type": "stream",
     "text": [
      "    Rank                                Bank Name  \\\n",
      "0      1  Industrial and Commercial Bank of China   \n",
      "1      2               Agricultural Bank of China   \n",
      "2      3                  China Construction Bank   \n",
      "3      4                            Bank of China   \n",
      "4      5                           JPMorgan Chase   \n",
      "..   ...                                      ...   \n",
      "95    96                         Raiffeisen Group   \n",
      "96    97                            Handelsbanken   \n",
      "97    98                 Industrial Bank of Korea   \n",
      "98    99                                      DNB   \n",
      "99   100                      Qatar National Bank   \n",
      "\n",
      "   Total Assets (2023, US$ billion)  \n",
      "0                          6,303.44  \n",
      "1                          5,623.12  \n",
      "2                          5,400.28  \n",
      "3                          4,578.28  \n",
      "4                          3,875.39  \n",
      "..                              ...  \n",
      "95                           352.87  \n",
      "96                           351.79  \n",
      "97                           345.81  \n",
      "98                           339.21  \n",
      "99                           338.14  \n",
      "\n",
      "[100 rows x 3 columns]\n"
     ]
    }
   ],
   "source": [
    "data= pd.read_json('Top 100 Largest Banks.json') # Read a CSV file into a DataFrame\n",
    "print(data)"
   ]
  },
  {
   "cell_type": "markdown",
   "metadata": {},
   "source": [
    "Writing CSV file"
   ]
  },
  {
   "cell_type": "code",
   "execution_count": 43,
   "metadata": {},
   "outputs": [],
   "source": [
    "data.to_csv('output.csv', index=False) # Write the DataFrame to a CSV file\n",
    "data.to_excel('output.xlsx', index=False) # Write the DataFrame to an Excel file"
   ]
  },
  {
   "cell_type": "markdown",
   "metadata": {},
   "source": [
    "Checking Null values in The above CSV file"
   ]
  },
  {
   "cell_type": "code",
   "execution_count": 44,
   "metadata": {},
   "outputs": [
    {
     "data": {
      "application/vnd.microsoft.datawrangler.viewer.v0+json": {
       "columns": [
        {
         "name": "index",
         "rawType": "int64",
         "type": "integer"
        },
        {
         "name": "Rank",
         "rawType": "int64",
         "type": "integer"
        },
        {
         "name": "Bank Name",
         "rawType": "object",
         "type": "string"
        },
        {
         "name": "Total Assets (2023, US$ billion)",
         "rawType": "object",
         "type": "string"
        }
       ],
       "conversionMethod": "pd.DataFrame",
       "ref": "25058e62-52bc-4340-bbd1-93a6099e4fdc",
       "rows": [
        [
         "0",
         "1",
         "Industrial and Commercial Bank of China",
         "6,303.44"
        ],
        [
         "1",
         "2",
         "Agricultural Bank of China",
         "5,623.12"
        ],
        [
         "2",
         "3",
         "China Construction Bank",
         "5,400.28"
        ],
        [
         "3",
         "4",
         "Bank of China",
         "4,578.28"
        ],
        [
         "4",
         "5",
         "JPMorgan Chase",
         "3,875.39"
        ],
        [
         "5",
         "6",
         "Bank of America",
         "3,180.15"
        ],
        [
         "6",
         "7",
         "HSBC",
         "2,919.84"
        ],
        [
         "7",
         "8",
         "BNP Paribas",
         "2,867.44"
        ],
        [
         "8",
         "9",
         "Mitsubishi UFJ Financial Group",
         "2,816.77"
        ],
        [
         "9",
         "10",
         "Crédit Agricole",
         "2,736.95"
        ],
        [
         "10",
         "11",
         "Postal Savings Bank of China",
         "2,217.86"
        ],
        [
         "11",
         "12",
         "Citigroup",
         "2,200.83"
        ],
        [
         "12",
         "13",
         "SMBC Group",
         "2,027.34"
        ],
        [
         "13",
         "14",
         "Banco Santander",
         "1,986.36"
        ],
        [
         "14",
         "15",
         "Bank of Communications",
         "1,982.89"
        ],
        [
         "15",
         "16",
         "Wells Fargo",
         "1,932.47"
        ],
        [
         "16",
         "17",
         "Mizuho Financial Group",
         "1,923.56"
        ],
        [
         "17",
         "18",
         "Barclays",
         "1,891.72"
        ],
        [
         "18",
         "19",
         "Société Générale",
         "1,717.49"
        ],
        [
         "19",
         "20",
         "UBS",
         "1,717.25"
        ],
        [
         "20",
         "21",
         "Groupe BPCE",
         "1,706.80"
        ],
        [
         "21",
         "22",
         "Goldman Sachs",
         "1,641.59"
        ],
        [
         "22",
         "23",
         "Japan Post Bank",
         "1,625.60"
        ],
        [
         "23",
         "24",
         "Royal Bank of Canada",
         "1,566.41"
        ],
        [
         "24",
         "25",
         "China Merchants Bank",
         "1,555.30"
        ],
        [
         "25",
         "26",
         "Deutsche Bank",
         "1,450.57"
        ],
        [
         "26",
         "27",
         "Industrial Bank (China)",
         "1,432.59"
        ],
        [
         "27",
         "28",
         "Toronto-Dominion Bank",
         "1,428.29"
        ],
        [
         "28",
         "29",
         "China CITIC Bank",
         "1,276.63"
        ],
        [
         "29",
         "30",
         "Crédit Mutuel",
         "1,262.95"
        ],
        [
         "30",
         "31",
         "Shanghai Pudong Development Bank",
         "1,207.18"
        ],
        [
         "31",
         "32",
         "Morgan Stanley",
         "1,193.69"
        ],
        [
         "32",
         "33",
         "Lloyds Banking Group",
         "1,122.76"
        ],
        [
         "33",
         "34",
         "China Minsheng Bank",
         "1,082.37"
        ],
        [
         "34",
         "35",
         "ING Group",
         "1,078.35"
        ],
        [
         "35",
         "36",
         "Intesa Sanpaolo",
         "1,066.74"
        ],
        [
         "36",
         "37",
         "Scotiabank",
         "1,041.11"
        ],
        [
         "37",
         "38",
         "Bank of Montreal",
         "990.19"
        ],
        [
         "38",
         "39",
         "China Everbright Bank",
         "955.14"
        ],
        [
         "39",
         "40",
         "NatWest Group",
         "882.30"
        ],
        [
         "40",
         "41",
         "UniCredit",
         "872.90"
        ],
        [
         "41",
         "42",
         "Commonwealth Bank",
         "868.74"
        ],
        [
         "42",
         "43",
         "Banco Bilbao Vizcaya Argentaria",
         "857.25"
        ],
        [
         "43",
         "44",
         "Standard Chartered",
         "822.84"
        ],
        [
         "44",
         "45",
         "La Banque postale",
         "815.91"
        ],
        [
         "45",
         "46",
         "Ping An Bank",
         "787.93"
        ],
        [
         "46",
         "47",
         "State Bank of India",
         "780.05"
        ],
        [
         "47",
         "48",
         "ANZ Group",
         "769.59"
        ],
        [
         "48",
         "49",
         "Canadian Imperial Bank of Commerce",
         "726.27"
        ],
        [
         "49",
         "50",
         "DZ Bank",
         "712.49"
        ]
       ],
       "shape": {
        "columns": 3,
        "rows": 100
       }
      },
      "text/html": [
       "<div>\n",
       "<style scoped>\n",
       "    .dataframe tbody tr th:only-of-type {\n",
       "        vertical-align: middle;\n",
       "    }\n",
       "\n",
       "    .dataframe tbody tr th {\n",
       "        vertical-align: top;\n",
       "    }\n",
       "\n",
       "    .dataframe thead th {\n",
       "        text-align: right;\n",
       "    }\n",
       "</style>\n",
       "<table border=\"1\" class=\"dataframe\">\n",
       "  <thead>\n",
       "    <tr style=\"text-align: right;\">\n",
       "      <th></th>\n",
       "      <th>Rank</th>\n",
       "      <th>Bank Name</th>\n",
       "      <th>Total Assets (2023, US$ billion)</th>\n",
       "    </tr>\n",
       "  </thead>\n",
       "  <tbody>\n",
       "    <tr>\n",
       "      <th>0</th>\n",
       "      <td>1</td>\n",
       "      <td>Industrial and Commercial Bank of China</td>\n",
       "      <td>6,303.44</td>\n",
       "    </tr>\n",
       "    <tr>\n",
       "      <th>1</th>\n",
       "      <td>2</td>\n",
       "      <td>Agricultural Bank of China</td>\n",
       "      <td>5,623.12</td>\n",
       "    </tr>\n",
       "    <tr>\n",
       "      <th>2</th>\n",
       "      <td>3</td>\n",
       "      <td>China Construction Bank</td>\n",
       "      <td>5,400.28</td>\n",
       "    </tr>\n",
       "    <tr>\n",
       "      <th>3</th>\n",
       "      <td>4</td>\n",
       "      <td>Bank of China</td>\n",
       "      <td>4,578.28</td>\n",
       "    </tr>\n",
       "    <tr>\n",
       "      <th>4</th>\n",
       "      <td>5</td>\n",
       "      <td>JPMorgan Chase</td>\n",
       "      <td>3,875.39</td>\n",
       "    </tr>\n",
       "    <tr>\n",
       "      <th>...</th>\n",
       "      <td>...</td>\n",
       "      <td>...</td>\n",
       "      <td>...</td>\n",
       "    </tr>\n",
       "    <tr>\n",
       "      <th>95</th>\n",
       "      <td>96</td>\n",
       "      <td>Raiffeisen Group</td>\n",
       "      <td>352.87</td>\n",
       "    </tr>\n",
       "    <tr>\n",
       "      <th>96</th>\n",
       "      <td>97</td>\n",
       "      <td>Handelsbanken</td>\n",
       "      <td>351.79</td>\n",
       "    </tr>\n",
       "    <tr>\n",
       "      <th>97</th>\n",
       "      <td>98</td>\n",
       "      <td>Industrial Bank of Korea</td>\n",
       "      <td>345.81</td>\n",
       "    </tr>\n",
       "    <tr>\n",
       "      <th>98</th>\n",
       "      <td>99</td>\n",
       "      <td>DNB</td>\n",
       "      <td>339.21</td>\n",
       "    </tr>\n",
       "    <tr>\n",
       "      <th>99</th>\n",
       "      <td>100</td>\n",
       "      <td>Qatar National Bank</td>\n",
       "      <td>338.14</td>\n",
       "    </tr>\n",
       "  </tbody>\n",
       "</table>\n",
       "<p>100 rows × 3 columns</p>\n",
       "</div>"
      ],
      "text/plain": [
       "    Rank                                Bank Name  \\\n",
       "0      1  Industrial and Commercial Bank of China   \n",
       "1      2               Agricultural Bank of China   \n",
       "2      3                  China Construction Bank   \n",
       "3      4                            Bank of China   \n",
       "4      5                           JPMorgan Chase   \n",
       "..   ...                                      ...   \n",
       "95    96                         Raiffeisen Group   \n",
       "96    97                            Handelsbanken   \n",
       "97    98                 Industrial Bank of Korea   \n",
       "98    99                                      DNB   \n",
       "99   100                      Qatar National Bank   \n",
       "\n",
       "   Total Assets (2023, US$ billion)  \n",
       "0                          6,303.44  \n",
       "1                          5,623.12  \n",
       "2                          5,400.28  \n",
       "3                          4,578.28  \n",
       "4                          3,875.39  \n",
       "..                              ...  \n",
       "95                           352.87  \n",
       "96                           351.79  \n",
       "97                           345.81  \n",
       "98                           339.21  \n",
       "99                           338.14  \n",
       "\n",
       "[100 rows x 3 columns]"
      ]
     },
     "execution_count": 44,
     "metadata": {},
     "output_type": "execute_result"
    }
   ],
   "source": [
    "data.isnull().sum() # Check for missing values in the DataFrame\n",
    "data.dropna() # Drop rows with missing values\n",
    "data.fillna(0) # Fill missing values with 0"
   ]
  },
  {
   "cell_type": "markdown",
   "metadata": {},
   "source": [
    "Single and Multiple Conditions"
   ]
  },
  {
   "cell_type": "code",
   "execution_count": 45,
   "metadata": {},
   "outputs": [
    {
     "data": {
      "application/vnd.microsoft.datawrangler.viewer.v0+json": {
       "columns": [
        {
         "name": "index",
         "rawType": "int64",
         "type": "integer"
        },
        {
         "name": "Rank",
         "rawType": "int64",
         "type": "integer"
        },
        {
         "name": "Bank Name",
         "rawType": "object",
         "type": "string"
        },
        {
         "name": "Total Assets (2023, US$ billion)",
         "rawType": "object",
         "type": "string"
        }
       ],
       "conversionMethod": "pd.DataFrame",
       "ref": "71adf3ab-804b-4cfc-92e5-8911a520310f",
       "rows": [
        [
         "0",
         "1",
         "Industrial and Commercial Bank of China",
         "6,303.44"
        ],
        [
         "1",
         "2",
         "Agricultural Bank of China",
         "5,623.12"
        ],
        [
         "2",
         "3",
         "China Construction Bank",
         "5,400.28"
        ],
        [
         "3",
         "4",
         "Bank of China",
         "4,578.28"
        ],
        [
         "4",
         "5",
         "JPMorgan Chase",
         "3,875.39"
        ],
        [
         "5",
         "6",
         "Bank of America",
         "3,180.15"
        ],
        [
         "6",
         "7",
         "HSBC",
         "2,919.84"
        ],
        [
         "7",
         "8",
         "BNP Paribas",
         "2,867.44"
        ],
        [
         "8",
         "9",
         "Mitsubishi UFJ Financial Group",
         "2,816.77"
        ]
       ],
       "shape": {
        "columns": 3,
        "rows": 9
       }
      },
      "text/html": [
       "<div>\n",
       "<style scoped>\n",
       "    .dataframe tbody tr th:only-of-type {\n",
       "        vertical-align: middle;\n",
       "    }\n",
       "\n",
       "    .dataframe tbody tr th {\n",
       "        vertical-align: top;\n",
       "    }\n",
       "\n",
       "    .dataframe thead th {\n",
       "        text-align: right;\n",
       "    }\n",
       "</style>\n",
       "<table border=\"1\" class=\"dataframe\">\n",
       "  <thead>\n",
       "    <tr style=\"text-align: right;\">\n",
       "      <th></th>\n",
       "      <th>Rank</th>\n",
       "      <th>Bank Name</th>\n",
       "      <th>Total Assets (2023, US$ billion)</th>\n",
       "    </tr>\n",
       "  </thead>\n",
       "  <tbody>\n",
       "    <tr>\n",
       "      <th>0</th>\n",
       "      <td>1</td>\n",
       "      <td>Industrial and Commercial Bank of China</td>\n",
       "      <td>6,303.44</td>\n",
       "    </tr>\n",
       "    <tr>\n",
       "      <th>1</th>\n",
       "      <td>2</td>\n",
       "      <td>Agricultural Bank of China</td>\n",
       "      <td>5,623.12</td>\n",
       "    </tr>\n",
       "    <tr>\n",
       "      <th>2</th>\n",
       "      <td>3</td>\n",
       "      <td>China Construction Bank</td>\n",
       "      <td>5,400.28</td>\n",
       "    </tr>\n",
       "    <tr>\n",
       "      <th>3</th>\n",
       "      <td>4</td>\n",
       "      <td>Bank of China</td>\n",
       "      <td>4,578.28</td>\n",
       "    </tr>\n",
       "    <tr>\n",
       "      <th>4</th>\n",
       "      <td>5</td>\n",
       "      <td>JPMorgan Chase</td>\n",
       "      <td>3,875.39</td>\n",
       "    </tr>\n",
       "    <tr>\n",
       "      <th>5</th>\n",
       "      <td>6</td>\n",
       "      <td>Bank of America</td>\n",
       "      <td>3,180.15</td>\n",
       "    </tr>\n",
       "    <tr>\n",
       "      <th>6</th>\n",
       "      <td>7</td>\n",
       "      <td>HSBC</td>\n",
       "      <td>2,919.84</td>\n",
       "    </tr>\n",
       "    <tr>\n",
       "      <th>7</th>\n",
       "      <td>8</td>\n",
       "      <td>BNP Paribas</td>\n",
       "      <td>2,867.44</td>\n",
       "    </tr>\n",
       "    <tr>\n",
       "      <th>8</th>\n",
       "      <td>9</td>\n",
       "      <td>Mitsubishi UFJ Financial Group</td>\n",
       "      <td>2,816.77</td>\n",
       "    </tr>\n",
       "  </tbody>\n",
       "</table>\n",
       "</div>"
      ],
      "text/plain": [
       "   Rank                                Bank Name  \\\n",
       "0     1  Industrial and Commercial Bank of China   \n",
       "1     2               Agricultural Bank of China   \n",
       "2     3                  China Construction Bank   \n",
       "3     4                            Bank of China   \n",
       "4     5                           JPMorgan Chase   \n",
       "5     6                          Bank of America   \n",
       "6     7                                     HSBC   \n",
       "7     8                              BNP Paribas   \n",
       "8     9           Mitsubishi UFJ Financial Group   \n",
       "\n",
       "  Total Assets (2023, US$ billion)  \n",
       "0                         6,303.44  \n",
       "1                         5,623.12  \n",
       "2                         5,400.28  \n",
       "3                         4,578.28  \n",
       "4                         3,875.39  \n",
       "5                         3,180.15  \n",
       "6                         2,919.84  \n",
       "7                         2,867.44  \n",
       "8                         2,816.77  "
      ]
     },
     "execution_count": 45,
     "metadata": {},
     "output_type": "execute_result"
    }
   ],
   "source": [
    "data[data[\"Rank\"]< 10] # Filter rows based on condition"
   ]
  },
  {
   "cell_type": "markdown",
   "metadata": {},
   "source": [
    "Renaming the file"
   ]
  },
  {
   "cell_type": "code",
   "execution_count": 46,
   "metadata": {},
   "outputs": [
    {
     "name": "stdout",
     "output_type": "stream",
     "text": [
      "   Rank                                Bank Name  \\\n",
      "0     1  Industrial and Commercial Bank of China   \n",
      "1     2               Agricultural Bank of China   \n",
      "2     3                  China Construction Bank   \n",
      "3     4                            Bank of China   \n",
      "4     5                           JPMorgan Chase   \n",
      "\n",
      "  Total Assets (2023, US$ billion)  \n",
      "0                         6,303.44  \n",
      "1                         5,623.12  \n",
      "2                         5,400.28  \n",
      "3                         4,578.28  \n",
      "4                         3,875.39  \n"
     ]
    }
   ],
   "source": [
    "data= pd.read_csv('output.csv') # Read a CSV file into a DataFrame\n",
    "print(data.head()) # Display the first 5 rows of the DataFrame"
   ]
  },
  {
   "cell_type": "markdown",
   "metadata": {},
   "source": [
    "Renaming the column"
   ]
  },
  {
   "cell_type": "code",
   "execution_count": 47,
   "metadata": {},
   "outputs": [],
   "source": [
    "data.rename(columns={'Total Assets (2023, US$ billion)': 'Assets'}, inplace=True)"
   ]
  },
  {
   "cell_type": "code",
   "execution_count": 48,
   "metadata": {},
   "outputs": [],
   "source": [
    "data.to_csv('output.csv', index=False) # Write the DataFrame to a CSV file"
   ]
  },
  {
   "cell_type": "code",
   "execution_count": 49,
   "metadata": {},
   "outputs": [
    {
     "name": "stdout",
     "output_type": "stream",
     "text": [
      "0     False\n",
      "1     False\n",
      "2     False\n",
      "3     False\n",
      "4     False\n",
      "      ...  \n",
      "95    False\n",
      "96    False\n",
      "97    False\n",
      "98    False\n",
      "99    False\n",
      "Length: 100, dtype: bool\n"
     ]
    }
   ],
   "source": [
    "print(data.duplicated())"
   ]
  },
  {
   "cell_type": "code",
   "execution_count": 50,
   "metadata": {},
   "outputs": [
    {
     "data": {
      "application/vnd.microsoft.datawrangler.viewer.v0+json": {
       "columns": [
        {
         "name": "index",
         "rawType": "int64",
         "type": "integer"
        },
        {
         "name": "Rank",
         "rawType": "int64",
         "type": "integer"
        },
        {
         "name": "Bank Name",
         "rawType": "object",
         "type": "string"
        },
        {
         "name": "Assets",
         "rawType": "object",
         "type": "string"
        }
       ],
       "conversionMethod": "pd.DataFrame",
       "ref": "2b158f9f-fb9b-4c45-8912-843051785d1e",
       "rows": [
        [
         "0",
         "1",
         "Industrial and Commercial Bank of China",
         "6,303.44"
        ],
        [
         "1",
         "2",
         "Agricultural Bank of China",
         "5,623.12"
        ],
        [
         "2",
         "3",
         "China Construction Bank",
         "5,400.28"
        ],
        [
         "3",
         "4",
         "Bank of China",
         "4,578.28"
        ],
        [
         "4",
         "5",
         "JPMorgan Chase",
         "3,875.39"
        ],
        [
         "5",
         "6",
         "Bank of America",
         "3,180.15"
        ],
        [
         "6",
         "7",
         "HSBC",
         "2,919.84"
        ],
        [
         "7",
         "8",
         "BNP Paribas",
         "2,867.44"
        ],
        [
         "8",
         "9",
         "Mitsubishi UFJ Financial Group",
         "2,816.77"
        ],
        [
         "9",
         "10",
         "Crédit Agricole",
         "2,736.95"
        ],
        [
         "10",
         "11",
         "Postal Savings Bank of China",
         "2,217.86"
        ],
        [
         "11",
         "12",
         "Citigroup",
         "2,200.83"
        ],
        [
         "12",
         "13",
         "SMBC Group",
         "2,027.34"
        ],
        [
         "13",
         "14",
         "Banco Santander",
         "1,986.36"
        ],
        [
         "14",
         "15",
         "Bank of Communications",
         "1,982.89"
        ],
        [
         "15",
         "16",
         "Wells Fargo",
         "1,932.47"
        ],
        [
         "16",
         "17",
         "Mizuho Financial Group",
         "1,923.56"
        ],
        [
         "17",
         "18",
         "Barclays",
         "1,891.72"
        ],
        [
         "18",
         "19",
         "Société Générale",
         "1,717.49"
        ],
        [
         "19",
         "20",
         "UBS",
         "1,717.25"
        ],
        [
         "20",
         "21",
         "Groupe BPCE",
         "1,706.80"
        ],
        [
         "21",
         "22",
         "Goldman Sachs",
         "1,641.59"
        ],
        [
         "22",
         "23",
         "Japan Post Bank",
         "1,625.60"
        ],
        [
         "23",
         "24",
         "Royal Bank of Canada",
         "1,566.41"
        ],
        [
         "24",
         "25",
         "China Merchants Bank",
         "1,555.30"
        ],
        [
         "25",
         "26",
         "Deutsche Bank",
         "1,450.57"
        ],
        [
         "26",
         "27",
         "Industrial Bank (China)",
         "1,432.59"
        ],
        [
         "27",
         "28",
         "Toronto-Dominion Bank",
         "1,428.29"
        ],
        [
         "28",
         "29",
         "China CITIC Bank",
         "1,276.63"
        ],
        [
         "29",
         "30",
         "Crédit Mutuel",
         "1,262.95"
        ],
        [
         "30",
         "31",
         "Shanghai Pudong Development Bank",
         "1,207.18"
        ],
        [
         "31",
         "32",
         "Morgan Stanley",
         "1,193.69"
        ],
        [
         "32",
         "33",
         "Lloyds Banking Group",
         "1,122.76"
        ],
        [
         "33",
         "34",
         "China Minsheng Bank",
         "1,082.37"
        ],
        [
         "34",
         "35",
         "ING Group",
         "1,078.35"
        ],
        [
         "35",
         "36",
         "Intesa Sanpaolo",
         "1,066.74"
        ],
        [
         "36",
         "37",
         "Scotiabank",
         "1,041.11"
        ],
        [
         "37",
         "38",
         "Bank of Montreal",
         "990.19"
        ],
        [
         "38",
         "39",
         "China Everbright Bank",
         "955.14"
        ],
        [
         "39",
         "40",
         "NatWest Group",
         "882.30"
        ],
        [
         "40",
         "41",
         "UniCredit",
         "872.90"
        ],
        [
         "41",
         "42",
         "Commonwealth Bank",
         "868.74"
        ],
        [
         "42",
         "43",
         "Banco Bilbao Vizcaya Argentaria",
         "857.25"
        ],
        [
         "43",
         "44",
         "Standard Chartered",
         "822.84"
        ],
        [
         "44",
         "45",
         "La Banque postale",
         "815.91"
        ],
        [
         "45",
         "46",
         "Ping An Bank",
         "787.93"
        ],
        [
         "46",
         "47",
         "State Bank of India",
         "780.05"
        ],
        [
         "47",
         "48",
         "ANZ Group",
         "769.59"
        ],
        [
         "48",
         "49",
         "Canadian Imperial Bank of Commerce",
         "726.27"
        ],
        [
         "49",
         "50",
         "DZ Bank",
         "712.49"
        ]
       ],
       "shape": {
        "columns": 3,
        "rows": 100
       }
      },
      "text/html": [
       "<div>\n",
       "<style scoped>\n",
       "    .dataframe tbody tr th:only-of-type {\n",
       "        vertical-align: middle;\n",
       "    }\n",
       "\n",
       "    .dataframe tbody tr th {\n",
       "        vertical-align: top;\n",
       "    }\n",
       "\n",
       "    .dataframe thead th {\n",
       "        text-align: right;\n",
       "    }\n",
       "</style>\n",
       "<table border=\"1\" class=\"dataframe\">\n",
       "  <thead>\n",
       "    <tr style=\"text-align: right;\">\n",
       "      <th></th>\n",
       "      <th>Rank</th>\n",
       "      <th>Bank Name</th>\n",
       "      <th>Assets</th>\n",
       "    </tr>\n",
       "  </thead>\n",
       "  <tbody>\n",
       "    <tr>\n",
       "      <th>0</th>\n",
       "      <td>1</td>\n",
       "      <td>Industrial and Commercial Bank of China</td>\n",
       "      <td>6,303.44</td>\n",
       "    </tr>\n",
       "    <tr>\n",
       "      <th>1</th>\n",
       "      <td>2</td>\n",
       "      <td>Agricultural Bank of China</td>\n",
       "      <td>5,623.12</td>\n",
       "    </tr>\n",
       "    <tr>\n",
       "      <th>2</th>\n",
       "      <td>3</td>\n",
       "      <td>China Construction Bank</td>\n",
       "      <td>5,400.28</td>\n",
       "    </tr>\n",
       "    <tr>\n",
       "      <th>3</th>\n",
       "      <td>4</td>\n",
       "      <td>Bank of China</td>\n",
       "      <td>4,578.28</td>\n",
       "    </tr>\n",
       "    <tr>\n",
       "      <th>4</th>\n",
       "      <td>5</td>\n",
       "      <td>JPMorgan Chase</td>\n",
       "      <td>3,875.39</td>\n",
       "    </tr>\n",
       "    <tr>\n",
       "      <th>...</th>\n",
       "      <td>...</td>\n",
       "      <td>...</td>\n",
       "      <td>...</td>\n",
       "    </tr>\n",
       "    <tr>\n",
       "      <th>95</th>\n",
       "      <td>96</td>\n",
       "      <td>Raiffeisen Group</td>\n",
       "      <td>352.87</td>\n",
       "    </tr>\n",
       "    <tr>\n",
       "      <th>96</th>\n",
       "      <td>97</td>\n",
       "      <td>Handelsbanken</td>\n",
       "      <td>351.79</td>\n",
       "    </tr>\n",
       "    <tr>\n",
       "      <th>97</th>\n",
       "      <td>98</td>\n",
       "      <td>Industrial Bank of Korea</td>\n",
       "      <td>345.81</td>\n",
       "    </tr>\n",
       "    <tr>\n",
       "      <th>98</th>\n",
       "      <td>99</td>\n",
       "      <td>DNB</td>\n",
       "      <td>339.21</td>\n",
       "    </tr>\n",
       "    <tr>\n",
       "      <th>99</th>\n",
       "      <td>100</td>\n",
       "      <td>Qatar National Bank</td>\n",
       "      <td>338.14</td>\n",
       "    </tr>\n",
       "  </tbody>\n",
       "</table>\n",
       "<p>100 rows × 3 columns</p>\n",
       "</div>"
      ],
      "text/plain": [
       "    Rank                                Bank Name    Assets\n",
       "0      1  Industrial and Commercial Bank of China  6,303.44\n",
       "1      2               Agricultural Bank of China  5,623.12\n",
       "2      3                  China Construction Bank  5,400.28\n",
       "3      4                            Bank of China  4,578.28\n",
       "4      5                           JPMorgan Chase  3,875.39\n",
       "..   ...                                      ...       ...\n",
       "95    96                         Raiffeisen Group    352.87\n",
       "96    97                            Handelsbanken    351.79\n",
       "97    98                 Industrial Bank of Korea    345.81\n",
       "98    99                                      DNB    339.21\n",
       "99   100                      Qatar National Bank    338.14\n",
       "\n",
       "[100 rows x 3 columns]"
      ]
     },
     "execution_count": 50,
     "metadata": {},
     "output_type": "execute_result"
    }
   ],
   "source": [
    "data.drop_duplicates()"
   ]
  },
  {
   "cell_type": "code",
   "execution_count": 51,
   "metadata": {},
   "outputs": [
    {
     "data": {
      "application/vnd.microsoft.datawrangler.viewer.v0+json": {
       "columns": [
        {
         "name": "index",
         "rawType": "object",
         "type": "string"
        },
        {
         "name": "Rank",
         "rawType": "float64",
         "type": "float"
        }
       ],
       "conversionMethod": "pd.DataFrame",
       "ref": "c99d11e3-4d9e-4c25-ba21-16302f3bf04a",
       "rows": [
        [
         "count",
         "100.0"
        ],
        [
         "mean",
         "50.5"
        ],
        [
         "std",
         "29.011491975882016"
        ],
        [
         "min",
         "1.0"
        ],
        [
         "25%",
         "25.75"
        ],
        [
         "50%",
         "50.5"
        ],
        [
         "75%",
         "75.25"
        ],
        [
         "max",
         "100.0"
        ]
       ],
       "shape": {
        "columns": 1,
        "rows": 8
       }
      },
      "text/html": [
       "<div>\n",
       "<style scoped>\n",
       "    .dataframe tbody tr th:only-of-type {\n",
       "        vertical-align: middle;\n",
       "    }\n",
       "\n",
       "    .dataframe tbody tr th {\n",
       "        vertical-align: top;\n",
       "    }\n",
       "\n",
       "    .dataframe thead th {\n",
       "        text-align: right;\n",
       "    }\n",
       "</style>\n",
       "<table border=\"1\" class=\"dataframe\">\n",
       "  <thead>\n",
       "    <tr style=\"text-align: right;\">\n",
       "      <th></th>\n",
       "      <th>Rank</th>\n",
       "    </tr>\n",
       "  </thead>\n",
       "  <tbody>\n",
       "    <tr>\n",
       "      <th>count</th>\n",
       "      <td>100.000000</td>\n",
       "    </tr>\n",
       "    <tr>\n",
       "      <th>mean</th>\n",
       "      <td>50.500000</td>\n",
       "    </tr>\n",
       "    <tr>\n",
       "      <th>std</th>\n",
       "      <td>29.011492</td>\n",
       "    </tr>\n",
       "    <tr>\n",
       "      <th>min</th>\n",
       "      <td>1.000000</td>\n",
       "    </tr>\n",
       "    <tr>\n",
       "      <th>25%</th>\n",
       "      <td>25.750000</td>\n",
       "    </tr>\n",
       "    <tr>\n",
       "      <th>50%</th>\n",
       "      <td>50.500000</td>\n",
       "    </tr>\n",
       "    <tr>\n",
       "      <th>75%</th>\n",
       "      <td>75.250000</td>\n",
       "    </tr>\n",
       "    <tr>\n",
       "      <th>max</th>\n",
       "      <td>100.000000</td>\n",
       "    </tr>\n",
       "  </tbody>\n",
       "</table>\n",
       "</div>"
      ],
      "text/plain": [
       "             Rank\n",
       "count  100.000000\n",
       "mean    50.500000\n",
       "std     29.011492\n",
       "min      1.000000\n",
       "25%     25.750000\n",
       "50%     50.500000\n",
       "75%     75.250000\n",
       "max    100.000000"
      ]
     },
     "execution_count": 51,
     "metadata": {},
     "output_type": "execute_result"
    }
   ],
   "source": [
    "data.describe() # Display summary statistics of the DataFrame"
   ]
  },
  {
   "cell_type": "markdown",
   "metadata": {},
   "source": [
    "# Calculating nth percentile of a column"
   ]
  },
  {
   "cell_type": "code",
   "execution_count": 55,
   "metadata": {},
   "outputs": [
    {
     "data": {
      "text/plain": [
       "45.550000000000004"
      ]
     },
     "execution_count": 55,
     "metadata": {},
     "output_type": "execute_result"
    }
   ],
   "source": [
    "data.Rank.quantile(0.45) # Calculate the nth percentile of the 'Rank' column"
   ]
  },
  {
   "cell_type": "code",
   "execution_count": null,
   "metadata": {},
   "outputs": [],
   "source": []
  }
 ],
 "metadata": {
  "kernelspec": {
   "display_name": "base",
   "language": "python",
   "name": "python3"
  },
  "language_info": {
   "codemirror_mode": {
    "name": "ipython",
    "version": 3
   },
   "file_extension": ".py",
   "mimetype": "text/x-python",
   "name": "python",
   "nbconvert_exporter": "python",
   "pygments_lexer": "ipython3",
   "version": "3.12.4"
  }
 },
 "nbformat": 4,
 "nbformat_minor": 2
}
