{
 "cells": [
  {
   "cell_type": "markdown",
   "metadata": {},
   "source": [
    "# HELLO WORLD!!\n",
    "## Markdown Subheading\n",
    "### Markdown Paragraph"
   ]
  },
  {
   "cell_type": "code",
   "execution_count": 23,
   "metadata": {},
   "outputs": [
    {
     "name": "stdout",
     "output_type": "stream",
     "text": [
      "Hello World\n",
      "Nameste Duniya\n"
     ]
    }
   ],
   "source": [
    "print(\"Hello World\")\n",
    "print(\"Nameste Duniya\")"
   ]
  },
  {
   "cell_type": "markdown",
   "metadata": {},
   "source": [
    "\n",
    "\n",
    "\n",
    "# Sum of two Numbers"
   ]
  },
  {
   "cell_type": "code",
   "execution_count": 24,
   "metadata": {},
   "outputs": [
    {
     "name": "stdout",
     "output_type": "stream",
     "text": [
      "17\n"
     ]
    }
   ],
   "source": [
    "x=9\n",
    "y=8\n",
    "print(x+y)"
   ]
  },
  {
   "cell_type": "markdown",
   "metadata": {},
   "source": [
    "# List Operations"
   ]
  },
  {
   "cell_type": "code",
   "execution_count": 25,
   "metadata": {},
   "outputs": [
    {
     "name": "stdout",
     "output_type": "stream",
     "text": [
      "[1, 2, 3, 4, 5]\n",
      "[1, 2, 3, 4, 5, 6]\n",
      "[1, 2, 4, 5, 6]\n",
      "[1, 2, 3, 4, 5, 6]\n"
     ]
    }
   ],
   "source": [
    "mylist= [1,2,3,4,5]\n",
    "print(mylist)\n",
    "mylist.append(6)\n",
    "print(mylist)\n",
    "mylist.remove(3)\n",
    "print(mylist)\n",
    "mylist.insert(2,3)\n",
    "print(mylist)\n"
   ]
  },
  {
   "cell_type": "markdown",
   "metadata": {},
   "source": [
    "# Tuple Operations"
   ]
  },
  {
   "cell_type": "code",
   "execution_count": 26,
   "metadata": {},
   "outputs": [
    {
     "name": "stdout",
     "output_type": "stream",
     "text": [
      "(1, 2, 3, 4, 5)\n",
      "3\n",
      "(1, 2, 3, 4, 5, 6)\n",
      "1\n",
      "2\n"
     ]
    }
   ],
   "source": [
    "mytuple= (1,2,3,4,5)\n",
    "print(mytuple)\n",
    "print(mytuple[2])\n",
    "mytuple= mytuple + (6,)\n",
    "print(mytuple)\n",
    "print(mytuple.count(3))\n",
    "print(mytuple.index(3))"
   ]
  },
  {
   "cell_type": "markdown",
   "metadata": {},
   "source": [
    "# Dictionaries Operations"
   ]
  },
  {
   "cell_type": "code",
   "execution_count": 27,
   "metadata": {},
   "outputs": [
    {
     "name": "stdout",
     "output_type": "stream",
     "text": [
      "{'a': 1, 'b': 2, 'c': 3}\n",
      "{'a': 1, 'b': 2, 'c': 3, 'd': 4}\n"
     ]
    }
   ],
   "source": [
    "mydict= {'a':1, 'b':2, 'c':3}\n",
    "print(mydict)\n",
    "mydict.update({'d': 4})\n",
    "print(mydict)"
   ]
  },
  {
   "cell_type": "markdown",
   "metadata": {},
   "source": [
    "# Numpy"
   ]
  },
  {
   "cell_type": "code",
   "execution_count": 28,
   "metadata": {},
   "outputs": [],
   "source": [
    "import numpy as np\n",
    "import pandas as pd\n",
    "import matplotlib as plty;"
   ]
  },
  {
   "cell_type": "code",
   "execution_count": 29,
   "metadata": {},
   "outputs": [
    {
     "name": "stdout",
     "output_type": "stream",
     "text": [
      "[1 2 3]\n",
      "['1' '2' '3']\n",
      "1\n",
      "1\n"
     ]
    }
   ],
   "source": [
    "list1= np.array([1, 2, 3]) \n",
    "tuple1= np.array((\"1\", \"2\", \"3\"))\n",
    "print(list1)\n",
    "print(tuple1)\n",
    "print(list1.ndim)\n",
    "print(tuple1.ndim)"
   ]
  },
  {
   "cell_type": "code",
   "execution_count": 30,
   "metadata": {},
   "outputs": [
    {
     "name": "stdout",
     "output_type": "stream",
     "text": [
      "<class 'numpy.ndarray'>\n",
      "int32\n"
     ]
    }
   ],
   "source": [
    "print(type(list1))\n",
    "print(list1.dtype)"
   ]
  },
  {
   "cell_type": "code",
   "execution_count": 31,
   "metadata": {},
   "outputs": [
    {
     "name": "stdout",
     "output_type": "stream",
     "text": [
      "3\n"
     ]
    }
   ],
   "source": [
    "list2= np.array([\"1\", \"2\", \"5\"], dtype= \"i\")\n",
    "print(list1[2])"
   ]
  },
  {
   "cell_type": "code",
   "execution_count": 32,
   "metadata": {},
   "outputs": [
    {
     "name": "stdout",
     "output_type": "stream",
     "text": [
      "[1 2 3]\n",
      "[5 2 3]\n"
     ]
    }
   ],
   "source": [
    "list2= list1.copy()\n",
    "list2[0]= 5\n",
    "print(list1)\n",
    "print(list2)"
   ]
  },
  {
   "cell_type": "code",
   "execution_count": 33,
   "metadata": {},
   "outputs": [
    {
     "name": "stdout",
     "output_type": "stream",
     "text": [
      "[7 2 3]\n",
      "[7 2 3]\n"
     ]
    }
   ],
   "source": [
    "list3= list2.view()\n",
    "list3[0]= 7\n",
    "print(list3)\n",
    "print(list2)"
   ]
  },
  {
   "cell_type": "code",
   "execution_count": 34,
   "metadata": {},
   "outputs": [
    {
     "name": "stdout",
     "output_type": "stream",
     "text": [
      "[[ 1  2  3]\n",
      " [ 4  5  6]\n",
      " [ 7  8  9]\n",
      " [10 11 12]]\n"
     ]
    }
   ],
   "source": [
    "list4= np.array((1, 2, 3, 4, 5, 6, 7, 8, 9, 10, 11, 12))\n",
    "newarray= list4.reshape(4,3)\n",
    "print(newarray)\n",
    "#newarray= list4.reshape(-1)\n",
    "#print(newarray)"
   ]
  },
  {
   "cell_type": "code",
   "execution_count": 35,
   "metadata": {},
   "outputs": [
    {
     "name": "stdout",
     "output_type": "stream",
     "text": [
      "[[ 3  2  1]\n",
      " [ 6  5  4]\n",
      " [ 9  8  7]\n",
      " [12 11 10]]\n"
     ]
    }
   ],
   "source": [
    "newarray[:, [2,0]]= newarray[:, [0,2]]\n",
    "print(newarray)"
   ]
  },
  {
   "cell_type": "code",
   "execution_count": 36,
   "metadata": {},
   "outputs": [
    {
     "name": "stdout",
     "output_type": "stream",
     "text": [
      "[0 1 2 3 4 5 6 7 8]\n"
     ]
    }
   ],
   "source": [
    "sortarray= np.array([3, 2, 0, 1, 8, 6, 4, 5, 7])\n",
    "print(np.sort(sortarray))"
   ]
  },
  {
   "cell_type": "code",
   "execution_count": 37,
   "metadata": {},
   "outputs": [
    {
     "name": "stdout",
     "output_type": "stream",
     "text": [
      "['Aman' 'Aman' 'Diya' 'Lakshy' 'Nandini' 'Rahul']\n"
     ]
    }
   ],
   "source": [
    "sortarr= np.array(['Lakshy', 'Aman', 'Nandini', 'Diya', 'Rahul', 'Aman'])\n",
    "print(np.sort(sortarr))"
   ]
  },
  {
   "cell_type": "code",
   "execution_count": 38,
   "metadata": {},
   "outputs": [
    {
     "name": "stdout",
     "output_type": "stream",
     "text": [
      "['Lakshy' 'Nandini']\n",
      "Reverse Order: ['Diya' 'Nandini' 'Aman' 'Lakshy']\n"
     ]
    }
   ],
   "source": [
    "sortarr= np.array(['Lakshy', 'Aman', 'Nandini', 'Diya'])\n",
    "x= [True, False, True, False]\n",
    "newarr= sortarr[x]\n",
    "print(newarr)\n",
    "print(\"Reverse Order:\" ,sortarr[::-1])"
   ]
  },
  {
   "cell_type": "code",
   "execution_count": 39,
   "metadata": {},
   "outputs": [
    {
     "name": "stdout",
     "output_type": "stream",
     "text": [
      "[ 6  7  8  9 10]\n"
     ]
    }
   ],
   "source": [
    "arr4= np.array([1, 2, 3, 4, 5, 6, 7, 8, 9, 10])\n",
    "condition= arr4>5\n",
    "newarr= arr4[condition]\n",
    "print(newarr)"
   ]
  },
  {
   "cell_type": "code",
   "execution_count": 40,
   "metadata": {},
   "outputs": [
    {
     "name": "stdout",
     "output_type": "stream",
     "text": [
      "9\n",
      "-3\n",
      "18\n",
      "0.5\n",
      "3\n"
     ]
    }
   ],
   "source": [
    "print(arr4[2]+ arr4[5])\n",
    "print(arr4[2]- arr4[5])\n",
    "print(arr4[2]* arr4[5])\n",
    "print(arr4[2]/ arr4[5])\n",
    "print(arr4[2]% arr4[5])"
   ]
  },
  {
   "cell_type": "code",
   "execution_count": 41,
   "metadata": {},
   "outputs": [
    {
     "name": "stdout",
     "output_type": "stream",
     "text": [
      "[ 7  9 11 13 15]\n",
      "[ 1  2  3  4  5  6  7  8  9 10]\n"
     ]
    }
   ],
   "source": [
    "arr5= np.array([1, 2, 3, 4, 5])\n",
    "arr6= np.array([6, 7, 8, 9, 10])\n",
    "print(np.add(arr5, arr6))  #Addition \n",
    "print(np.concatenate((arr5, arr6))) #Concatenation\n"
   ]
  },
  {
   "cell_type": "markdown",
   "metadata": {},
   "source": [
    "There is a difference between add and concate. Remember add function actually performs addition addition while concate function combines the values of an array."
   ]
  },
  {
   "cell_type": "code",
   "execution_count": 42,
   "metadata": {},
   "outputs": [
    {
     "name": "stdout",
     "output_type": "stream",
     "text": [
      "[1 5 4 3 2]\n",
      "[1 5 4 3 2]\n",
      "[1 5 4 3 2]\n"
     ]
    }
   ],
   "source": [
    "from numpy import random\n",
    "random.shuffle(arr5)\n",
    "print(arr5)\n",
    "random.permutation(arr5)\n",
    "print(arr5)\n",
    "print(arr5)"
   ]
  },
  {
   "cell_type": "code",
   "execution_count": 44,
   "metadata": {},
   "outputs": [
    {
     "name": "stdout",
     "output_type": "stream",
     "text": [
      "[array([1, 2]), array([3, 4]), array([5, 6]), array([7, 8]), array([ 9, 10])]\n",
      "(10,)\n"
     ]
    }
   ],
   "source": [
    "arr7= np.array([1, 2, 3, 4, 5, 6, 7, 8, 9, 10])\n",
    "print(np.split(arr7, 5))\n",
    "print(arr7.shape)"
   ]
  },
  {
   "cell_type": "code",
   "execution_count": null,
   "metadata": {},
   "outputs": [],
   "source": []
  }
 ],
 "metadata": {
  "kernelspec": {
   "display_name": "base",
   "language": "python",
   "name": "python3"
  },
  "language_info": {
   "codemirror_mode": {
    "name": "ipython",
    "version": 3
   },
   "file_extension": ".py",
   "mimetype": "text/x-python",
   "name": "python",
   "nbconvert_exporter": "python",
   "pygments_lexer": "ipython3",
   "version": "3.12.4"
  }
 },
 "nbformat": 4,
 "nbformat_minor": 2
}
