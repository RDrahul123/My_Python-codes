{
 "cells": [
  {
   "cell_type": "markdown",
   "metadata": {},
   "source": [
    "# Heading!!\n",
    "## Markdown Subheading\n",
    "### Markdown Paragraph"
   ]
  },
  {
   "cell_type": "code",
   "execution_count": 44,
   "metadata": {},
   "outputs": [
    {
     "name": "stdout",
     "output_type": "stream",
     "text": [
      "Hello World\n",
      "Nameste Duniya\n"
     ]
    }
   ],
   "source": [
    "print(\"Hello World\")\n",
    "print(\"Nameste Duniya\")"
   ]
  },
  {
   "cell_type": "markdown",
   "metadata": {},
   "source": [
    "\n",
    "\n",
    "\n",
    "# Sum of two Numbers"
   ]
  },
  {
   "cell_type": "code",
   "execution_count": 45,
   "metadata": {},
   "outputs": [
    {
     "name": "stdout",
     "output_type": "stream",
     "text": [
      "17\n"
     ]
    }
   ],
   "source": [
    "x=9\n",
    "y=8\n",
    "print(x+y)"
   ]
  },
  {
   "cell_type": "markdown",
   "metadata": {},
   "source": [
    "# List Operations"
   ]
  },
  {
   "cell_type": "code",
   "execution_count": 46,
   "metadata": {},
   "outputs": [
    {
     "name": "stdout",
     "output_type": "stream",
     "text": [
      "[1, 2, 3, 4, 5]\n",
      "[1, 2, 3, 4, 5, 6]\n",
      "[1, 2, 4, 5, 6]\n",
      "[1, 2, 3, 4, 5, 6]\n"
     ]
    }
   ],
   "source": [
    "mylist= [1,2,3,4,5]\n",
    "print(mylist)\n",
    "mylist.append(6)\n",
    "print(mylist)\n",
    "mylist.remove(3)\n",
    "print(mylist)\n",
    "mylist.insert(2,3)\n",
    "print(mylist)\n"
   ]
  },
  {
   "cell_type": "markdown",
   "metadata": {},
   "source": [
    "# Tuple Operations"
   ]
  },
  {
   "cell_type": "code",
   "execution_count": 47,
   "metadata": {},
   "outputs": [
    {
     "name": "stdout",
     "output_type": "stream",
     "text": [
      "(1, 2, 3, 4, 5)\n",
      "3\n",
      "(1, 2, 3, 4, 5, 6)\n",
      "1\n",
      "2\n"
     ]
    }
   ],
   "source": [
    "mytuple= (1,2,3,4,5)\n",
    "print(mytuple)\n",
    "print(mytuple[2])\n",
    "mytuple= mytuple + (6,)\n",
    "print(mytuple)\n",
    "print(mytuple.count(3))\n",
    "print(mytuple.index(3))"
   ]
  },
  {
   "cell_type": "markdown",
   "metadata": {},
   "source": [
    "# Dictionaries Operations"
   ]
  },
  {
   "cell_type": "code",
   "execution_count": 48,
   "metadata": {},
   "outputs": [
    {
     "name": "stdout",
     "output_type": "stream",
     "text": [
      "{'a': 1, 'b': 2, 'c': 3}\n",
      "{'a': 1, 'b': 2, 'c': 3, 'd': 4}\n"
     ]
    }
   ],
   "source": [
    "mydict= {'a':1, 'b':2, 'c':3}\n",
    "print(mydict)\n",
    "mydict.update({'d': 4})\n",
    "print(mydict)"
   ]
  },
  {
   "cell_type": "markdown",
   "metadata": {},
   "source": [
    "# Numpy"
   ]
  },
  {
   "cell_type": "code",
   "execution_count": 49,
   "metadata": {},
   "outputs": [],
   "source": [
    "import numpy as np\n",
    "import pandas as pd\n",
    "import matplotlib as plty;"
   ]
  },
  {
   "cell_type": "code",
   "execution_count": 50,
   "metadata": {},
   "outputs": [
    {
     "name": "stdout",
     "output_type": "stream",
     "text": [
      "[1 2 3]\n",
      "['1' '2' '3']\n",
      "1\n",
      "1\n"
     ]
    }
   ],
   "source": [
    "list1= np.array([1, 2, 3]) \n",
    "tuple1= np.array((\"1\", \"2\", \"3\"))\n",
    "print(list1)\n",
    "print(tuple1)\n",
    "print(list1.ndim)\n",
    "print(tuple1.ndim)"
   ]
  },
  {
   "cell_type": "code",
   "execution_count": 51,
   "metadata": {},
   "outputs": [
    {
     "name": "stdout",
     "output_type": "stream",
     "text": [
      "<class 'numpy.ndarray'>\n",
      "int32\n"
     ]
    }
   ],
   "source": [
    "print(type(list1))\n",
    "print(list1.dtype)"
   ]
  },
  {
   "cell_type": "code",
   "execution_count": 52,
   "metadata": {},
   "outputs": [
    {
     "name": "stdout",
     "output_type": "stream",
     "text": [
      "3\n"
     ]
    }
   ],
   "source": [
    "list2= np.array([\"1\", \"2\", \"5\"], dtype= \"i\")\n",
    "print(list1[2])"
   ]
  },
  {
   "cell_type": "code",
   "execution_count": 53,
   "metadata": {},
   "outputs": [
    {
     "name": "stdout",
     "output_type": "stream",
     "text": [
      "[1 2 3]\n",
      "[5 2 3]\n"
     ]
    }
   ],
   "source": [
    "list2= list1.copy()\n",
    "list2[0]= 5\n",
    "print(list1)\n",
    "print(list2)"
   ]
  },
  {
   "cell_type": "code",
   "execution_count": 54,
   "metadata": {},
   "outputs": [
    {
     "name": "stdout",
     "output_type": "stream",
     "text": [
      "[7 2 3]\n",
      "[7 2 3]\n"
     ]
    }
   ],
   "source": [
    "list3= list2.view()\n",
    "list3[0]= 7\n",
    "print(list3)\n",
    "print(list2)"
   ]
  },
  {
   "cell_type": "code",
   "execution_count": 55,
   "metadata": {},
   "outputs": [
    {
     "name": "stdout",
     "output_type": "stream",
     "text": [
      "[[ 1  2  3]\n",
      " [ 4  5  6]\n",
      " [ 7  8  9]\n",
      " [10 11 12]]\n"
     ]
    }
   ],
   "source": [
    "list4= np.array((1, 2, 3, 4, 5, 6, 7, 8, 9, 10, 11, 12))\n",
    "newarray= list4.reshape(4,3)\n",
    "print(newarray)\n",
    "#newarray= list4.reshape(-1)\n",
    "#print(newarray)"
   ]
  },
  {
   "cell_type": "code",
   "execution_count": 56,
   "metadata": {},
   "outputs": [
    {
     "name": "stdout",
     "output_type": "stream",
     "text": [
      "[[ 3  2  1]\n",
      " [ 6  5  4]\n",
      " [ 9  8  7]\n",
      " [12 11 10]]\n"
     ]
    }
   ],
   "source": [
    "newarray[:, [2,0]]= newarray[:, [0,2]]\n",
    "print(newarray)"
   ]
  },
  {
   "cell_type": "code",
   "execution_count": 57,
   "metadata": {},
   "outputs": [
    {
     "name": "stdout",
     "output_type": "stream",
     "text": [
      "[0 1 2 3 4 5 6 7 8]\n"
     ]
    }
   ],
   "source": [
    "sortarray= np.array([3, 2, 0, 1, 8, 6, 4, 5, 7])\n",
    "print(np.sort(sortarray))"
   ]
  },
  {
   "cell_type": "code",
   "execution_count": 58,
   "metadata": {},
   "outputs": [
    {
     "name": "stdout",
     "output_type": "stream",
     "text": [
      "['Aman' 'Aman' 'Diya' 'Lakshy' 'Nandini' 'Rahul']\n"
     ]
    }
   ],
   "source": [
    "sortarr= np.array(['Lakshy', 'Aman', 'Nandini', 'Diya', 'Rahul', 'Aman'])\n",
    "print(np.sort(sortarr))"
   ]
  },
  {
   "cell_type": "code",
   "execution_count": 59,
   "metadata": {},
   "outputs": [
    {
     "name": "stdout",
     "output_type": "stream",
     "text": [
      "['Lakshy' 'Shyam']\n",
      "['Diya' 'Shyam' 'Aman' 'Lakshy']\n"
     ]
    }
   ],
   "source": [
    "sortarr= np.array(['Lakshy', 'Aman', 'Shyam', 'Diya'])\n",
    "x= [True, False, True, False]\n",
    "newarr= sortarr[x]\n",
    "print(newarr)\n",
    "#print(\"Reverse Order:\" ,sortarr[::-1])\n",
    "print(np.flip(sortarr, axis=0))"
   ]
  },
  {
   "cell_type": "code",
   "execution_count": 60,
   "metadata": {},
   "outputs": [
    {
     "name": "stdout",
     "output_type": "stream",
     "text": [
      "[ 6  7  8  9 10]\n"
     ]
    }
   ],
   "source": [
    "arr4= np.array([1, 2, 3, 4, 5, 6, 7, 8, 9, 10])\n",
    "condition= arr4>5\n",
    "newarr= arr4[condition]\n",
    "print(newarr)"
   ]
  },
  {
   "cell_type": "code",
   "execution_count": 61,
   "metadata": {},
   "outputs": [
    {
     "name": "stdout",
     "output_type": "stream",
     "text": [
      "9\n",
      "-3\n",
      "18\n",
      "0.5\n",
      "3\n"
     ]
    }
   ],
   "source": [
    "print(arr4[2]+ arr4[5])\n",
    "print(arr4[2]- arr4[5])\n",
    "print(arr4[2]* arr4[5])\n",
    "print(arr4[2]/ arr4[5])\n",
    "print(arr4[2]% arr4[5])"
   ]
  },
  {
   "cell_type": "code",
   "execution_count": 62,
   "metadata": {},
   "outputs": [
    {
     "name": "stdout",
     "output_type": "stream",
     "text": [
      "[ 7  9 11 13 15]\n",
      "[ 1  2  3  4  5  6  7  8  9 10]\n"
     ]
    }
   ],
   "source": [
    "arr5= np.array([1, 2, 3, 4, 5])\n",
    "arr6= np.array([6, 7, 8, 9, 10])\n",
    "print(np.add(arr5, arr6))  #Addition \n",
    "print(np.concatenate((arr5, arr6))) #Concatenation\n"
   ]
  },
  {
   "cell_type": "markdown",
   "metadata": {},
   "source": [
    "There is a difference between add and concate. Remember add function actually performs addition addition while concate function combines the values of an array."
   ]
  },
  {
   "cell_type": "code",
   "execution_count": 63,
   "metadata": {},
   "outputs": [
    {
     "name": "stdout",
     "output_type": "stream",
     "text": [
      "[5 3 1 4 2]\n",
      "[5 3 1 4 2]\n",
      "[5 3 1 4 2]\n"
     ]
    }
   ],
   "source": [
    "from numpy import random\n",
    "random.shuffle(arr5)\n",
    "print(arr5)\n",
    "random.permutation(arr5)\n",
    "print(arr5)\n",
    "print(arr5)"
   ]
  },
  {
   "cell_type": "code",
   "execution_count": 64,
   "metadata": {},
   "outputs": [
    {
     "name": "stdout",
     "output_type": "stream",
     "text": [
      "[array([1, 2, 3, 4, 5]), array([ 6,  7,  8,  9, 10]), array([10, 11, 12, 12, 12]), array([13, 14, 15, 16, 17]), array([18, 19, 20, 21, 22])]\n",
      "(25,)\n",
      "[22 21 20 19 18 17 16 15 14 13 12 12 12 11 10 10  9  8  7  6  5  4  3  2\n",
      "  1]\n",
      "[ 1  2  3  4  5  6  7  8  9 10 11 12 13 14 15 16 17 18 19 20 21 22]\n"
     ]
    }
   ],
   "source": [
    "arr7= np.array([1, 2, 3, 4, 5, 6, 7, 8, 9, 10, 10, 11, 12, 12, 12, 13, 14, 15, 16, 17, 18, 19, 20, 21, 22])\n",
    "print(np.split(arr7, 5))\n",
    "print(arr7.shape)\n",
    "print(np.flip(arr7))\n",
    "print(np.unique(arr7))"
   ]
  },
  {
   "cell_type": "code",
   "execution_count": 65,
   "metadata": {},
   "outputs": [
    {
     "name": "stdout",
     "output_type": "stream",
     "text": [
      "[ 1  2  3  4  5  6  7  8  9 10 10 11 12 12 12 13 14 15 16 17 18 19 20 21\n",
      " 22]\n"
     ]
    }
   ],
   "source": [
    "np.save('newfile4.npy', arr7)\n",
    "arr8= np.load('newfile4.npy')\n",
    "print(arr8)\n",
    "# print(np.load('newfile.npy'))"
   ]
  },
  {
   "cell_type": "markdown",
   "metadata": {},
   "source": [
    "## Leniar Algebra Operations"
   ]
  },
  {
   "cell_type": "code",
   "execution_count": 66,
   "metadata": {},
   "outputs": [
    {
     "name": "stdout",
     "output_type": "stream",
     "text": [
      "-2.9999999999999996\n",
      "[[-1.66666667  0.66666667]\n",
      " [ 1.33333333 -0.33333333]]\n",
      "2\n"
     ]
    }
   ],
   "source": [
    "from numpy import linalg\n",
    "# import numpy as np\n",
    "a= np.array([[1, 2], [4, 5]])\n",
    "b= np.array([[7, 8], [10, 11]])\n",
    "\n",
    "# print(np.dot(a, b))\n",
    "# print(np.matmul(a, b))\n",
    "print(np.linalg.det(a))\n",
    "print(np.linalg.inv(a))\n",
    "print(np.linalg.matrix_rank(a))"
   ]
  },
  {
   "cell_type": "markdown",
   "metadata": {},
   "source": [
    "## np.randon.seed\n",
    "\n",
    "The np.random.seed() function is crucial for ensuring reproducibility in your code when generating random numbers. Without setting a seed, NumPy will produce different random numbers every time you run the code."
   ]
  },
  {
   "cell_type": "code",
   "execution_count": 67,
   "metadata": {},
   "outputs": [
    {
     "name": "stdout",
     "output_type": "stream",
     "text": [
      "[[ 1.62434536 -0.61175641 -0.52817175]\n",
      " [-1.07296862  0.86540763 -2.3015387 ]\n",
      " [ 1.74481176 -0.7612069   0.3190391 ]]\n",
      "[[3 5 8]\n",
      " [8 2 8]\n",
      " [1 7 8]]\n",
      "['e' 'e' 'a' 'u']\n"
     ]
    }
   ],
   "source": [
    "np.random.seed(1)          # Ensures reproducibility\n",
    "#print(np.random.rand(3, 3)) # Uniform distribution\n",
    "print(np.random.randn(3, 3))# Normal distribution\n",
    "print(np.random.randint(1, 10, (3, 3))) # Random integers\n",
    "print(np.random.choice(['a', 'e', 'i', 'o', 'u'], 4)) # Random choice"
   ]
  },
  {
   "cell_type": "code",
   "execution_count": 68,
   "metadata": {},
   "outputs": [
    {
     "name": "stdout",
     "output_type": "stream",
     "text": [
      "[[2 1 1]\n",
      " [4 3 2]\n",
      " [1 4 2]]\n",
      "[5 3 1 4 2]\n"
     ]
    }
   ],
   "source": [
    "print(np.random.choice([1, 2, 3, 4, 5], size= (3, 3))) # Random choice\n",
    "print(np.random.permutation([1, 2, 3, 4, 5])) # Random permutation"
   ]
  },
  {
   "cell_type": "code",
   "execution_count": 69,
   "metadata": {},
   "outputs": [
    {
     "name": "stdout",
     "output_type": "stream",
     "text": [
      "Loaded Array:\n",
      "[ 1.  2.  3.  4.  5.  6.  7.  8.  9. 10. 10. 11. 12. 12. 12. 13. 14. 15.\n",
      " 16. 17. 18. 19. 20. 21. 22.]\n",
      "Loaded Array:\n",
      "[ 1  2  3  4  5  6  7  8  9 10 10 11 12 12 12 13 14 15 16 17 18 19 20 21\n",
      " 22]\n"
     ]
    }
   ],
   "source": [
    "# Save an array to a CSV file\n",
    "np.savetxt('array_data.csv', arr7, delimiter=',')\n",
    "\n",
    "# Load the array back from the CSV file\n",
    "loaded_array = np.loadtxt('array_data.csv', delimiter=',')\n",
    "print(\"Loaded Array:\")\n",
    "print(loaded_array)\n",
    "\n",
    "np.save('array_data.npy', arr7) # Save an array to a binary file\n",
    "loaded_array = np.load('array_data.npy') # Load the array back from the binary file\n",
    "print(\"Loaded Array:\")\n",
    "print(loaded_array)"
   ]
  },
  {
   "cell_type": "code",
   "execution_count": 70,
   "metadata": {},
   "outputs": [
    {
     "name": "stdout",
     "output_type": "stream",
     "text": [
      "56.0\n",
      "3.5\n",
      "21\n"
     ]
    }
   ],
   "source": [
    "arr56= np.array([1, 2, 3, 4, 5, 6])\n",
    "print(np.mean(56))\n",
    "print(np.median(arr56))\n",
    "print(np.sum(arr56))"
   ]
  },
  {
   "cell_type": "markdown",
   "metadata": {},
   "source": [
    "# Pandas"
   ]
  },
  {
   "cell_type": "markdown",
   "metadata": {},
   "source": [
    "In pandas data is stored in the format of Dictionary and hence key value pairs are required. On the other hand data shown in the output is in the form of table for better understability and apperance. "
   ]
  },
  {
   "cell_type": "code",
   "execution_count": 71,
   "metadata": {},
   "outputs": [],
   "source": [
    "import pandas as pd"
   ]
  },
  {
   "cell_type": "code",
   "execution_count": 72,
   "metadata": {},
   "outputs": [
    {
     "name": "stdout",
     "output_type": "stream",
     "text": [
      "    Name Age    City\n",
      "0  Rahul  26  Indore\n",
      "1    Ram  14    Pune\n",
      "2  shyam  17  Mumbai\n"
     ]
    }
   ],
   "source": [
    "dict= { 'Name': ['Rahul' , 'Ram', 'shyam'], \n",
    "       'Age': ['26', '14', '17'],\n",
    "       'City': ['Indore', 'Pune', 'Mumbai']\n",
    "}\n",
    "\n",
    "a= pd.DataFrame(dict)\n",
    "print(a)"
   ]
  },
  {
   "cell_type": "code",
   "execution_count": 73,
   "metadata": {},
   "outputs": [
    {
     "name": "stdout",
     "output_type": "stream",
     "text": [
      "1    10\n",
      "2    20\n",
      "3    30\n",
      "4    40\n",
      "5    50\n",
      "dtype: int64\n"
     ]
    }
   ],
   "source": [
    "data= [10, 20, 30, 40, 50]\n",
    "series= pd.Series(data, index=[1, 2, 3, 4, 5])\n",
    "print(series)"
   ]
  },
  {
   "cell_type": "code",
   "execution_count": 74,
   "metadata": {},
   "outputs": [
    {
     "name": "stdout",
     "output_type": "stream",
     "text": [
      "      Name  Age         City Gender\n",
      "a    Alice   25     New York      M\n",
      "b      Bob   30  Los Angeles      M\n",
      "c  Charlie   35      Chicago      F\n"
     ]
    }
   ],
   "source": [
    "data = {\n",
    "    'Name': ['Alice', 'Bob', 'Charlie'],\n",
    "    'Age': [25, 30, 35],\n",
    "    'City': ['New York', 'Los Angeles', 'Chicago'], \n",
    "    'Gender': ['M', 'M', 'F']\n",
    "}\n",
    "\n",
    "df = pd.DataFrame(data, index=['a', 'b', 'c'])\n",
    "print(df)"
   ]
  },
  {
   "cell_type": "markdown",
   "metadata": {},
   "source": [
    "# Operations on DataFrame"
   ]
  },
  {
   "cell_type": "code",
   "execution_count": 75,
   "metadata": {},
   "outputs": [
    {
     "name": "stdout",
     "output_type": "stream",
     "text": [
      "      Name  Age         City Gender\n",
      "a    Alice   25     New York      M\n",
      "b      Bob   30  Los Angeles      M\n",
      "c  Charlie   35      Chicago      F\n"
     ]
    }
   ],
   "source": [
    "print(df.head()) # Display the first 5 rows of the DataFrame"
   ]
  },
  {
   "cell_type": "code",
   "execution_count": 76,
   "metadata": {},
   "outputs": [
    {
     "name": "stdout",
     "output_type": "stream",
     "text": [
      "      Name  Age         City Gender\n",
      "a    Alice   25     New York      M\n",
      "b      Bob   30  Los Angeles      M\n",
      "c  Charlie   35      Chicago      F\n"
     ]
    }
   ],
   "source": [
    "print(df.tail()) # Display the last 5 rows of the DataFrame "
   ]
  },
  {
   "cell_type": "code",
   "execution_count": 77,
   "metadata": {},
   "outputs": [
    {
     "name": "stdout",
     "output_type": "stream",
     "text": [
      "<class 'pandas.core.frame.DataFrame'>\n",
      "Index: 3 entries, a to c\n",
      "Data columns (total 4 columns):\n",
      " #   Column  Non-Null Count  Dtype \n",
      "---  ------  --------------  ----- \n",
      " 0   Name    3 non-null      object\n",
      " 1   Age     3 non-null      int64 \n",
      " 2   City    3 non-null      object\n",
      " 3   Gender  3 non-null      object\n",
      "dtypes: int64(1), object(3)\n",
      "memory usage: 120.0+ bytes\n",
      "None\n"
     ]
    }
   ],
   "source": [
    "print(df.info()) # Display information about the DataFrame"
   ]
  },
  {
   "cell_type": "code",
   "execution_count": 78,
   "metadata": {},
   "outputs": [
    {
     "name": "stdout",
     "output_type": "stream",
     "text": [
      "        Age\n",
      "count   3.0\n",
      "mean   30.0\n",
      "std     5.0\n",
      "min    25.0\n",
      "25%    27.5\n",
      "50%    30.0\n",
      "75%    32.5\n",
      "max    35.0\n"
     ]
    }
   ],
   "source": [
    "print(df.describe()) # Display summary statistics of the DataFrame"
   ]
  },
  {
   "cell_type": "code",
   "execution_count": 79,
   "metadata": {},
   "outputs": [
    {
     "name": "stdout",
     "output_type": "stream",
     "text": [
      "Name         Alice\n",
      "Age             25\n",
      "City      New York\n",
      "Gender           M\n",
      "Name: a, dtype: object\n"
     ]
    }
   ],
   "source": [
    "print(df.loc['a']) # Access row by label"
   ]
  },
  {
   "cell_type": "code",
   "execution_count": 80,
   "metadata": {},
   "outputs": [
    {
     "name": "stdout",
     "output_type": "stream",
     "text": [
      "a    False\n",
      "b    False\n",
      "c     True\n",
      "Name: Age, dtype: bool\n"
     ]
    }
   ],
   "source": [
    "print(df['Age']>30) # Boolean indexing"
   ]
  },
  {
   "cell_type": "code",
   "execution_count": 81,
   "metadata": {},
   "outputs": [
    {
     "name": "stdout",
     "output_type": "stream",
     "text": [
      "      Name  Age     City Gender\n",
      "c  Charlie   35  Chicago      F\n"
     ]
    }
   ],
   "source": [
    "print(df[df['Age']>30]) # Filter rows based on condition"
   ]
  },
  {
   "cell_type": "code",
   "execution_count": 82,
   "metadata": {},
   "outputs": [
    {
     "name": "stdout",
     "output_type": "stream",
     "text": [
      "Name         Alice\n",
      "Age             25\n",
      "City      New York\n",
      "Gender           M\n",
      "Name: a, dtype: object\n",
      "Name              Bob\n",
      "Age                30\n",
      "City      Los Angeles\n",
      "Gender              M\n",
      "Name: b, dtype: object\n"
     ]
    }
   ],
   "source": [
    "print(df.iloc[0]) # Access row by index position\n",
    "print(df.iloc[1]) # Access row by index position"
   ]
  },
  {
   "cell_type": "code",
   "execution_count": 83,
   "metadata": {},
   "outputs": [
    {
     "name": "stdout",
     "output_type": "stream",
     "text": [
      "    Name  Age         City Gender\n",
      "a  Alice   25     New York      M\n",
      "b    Bob   30  Los Angeles      M\n"
     ]
    }
   ],
   "source": [
    "print(df.iloc[0:2]) # Access multiple rows by index position    "
   ]
  },
  {
   "cell_type": "code",
   "execution_count": 87,
   "metadata": {},
   "outputs": [
    {
     "name": "stdout",
     "output_type": "stream",
     "text": [
      "a    25\n",
      "b    30\n",
      "c    35\n",
      "Name: Age, dtype: int64\n",
      "   Age         City\n",
      "a   25     New York\n",
      "b   30  Los Angeles\n",
      "c   35      Chicago\n"
     ]
    }
   ],
   "source": [
    "print(df.iloc[:, 1]) # Access a specific column by index position\n",
    "print(df.iloc[:, 1:3]) # Access multiple columns by index position"
   ]
  },
  {
   "cell_type": "code",
   "execution_count": null,
   "metadata": {},
   "outputs": [
    {
     "name": "stdout",
     "output_type": "stream",
     "text": [
      "   Rank                                Bank Name  \\\n",
      "0     1  Industrial and Commercial Bank of China   \n",
      "1     2               Agricultural Bank of China   \n",
      "2     3                  China Construction Bank   \n",
      "3     4                            Bank of China   \n",
      "4     5                           JPMorgan Chase   \n",
      "\n",
      "  Total Assets (2023, US$ billion)  \n",
      "0                         6,303.44  \n",
      "1                         5,623.12  \n",
      "2                         5,400.28  \n",
      "3                         4,578.28  \n",
      "4                         3,875.39  \n"
     ]
    }
   ],
   "source": [
    "data= pd.read_json('Top 100 Largest Banks.json') # Read a CSV file into a DataFrame\n",
    "print(data.head()) # Display the first 5 rows of the DataFrame"
   ]
  },
  {
   "cell_type": "code",
   "execution_count": null,
   "metadata": {},
   "outputs": [],
   "source": [
    "data.to_csv('output.csv', index=False) # Save DataFrame to a CSV file\n",
    "data.to_excel('output.xlsx', index=False) # Save DataFrame to an Excel file"
   ]
  },
  {
   "cell_type": "code",
   "execution_count": null,
   "metadata": {},
   "outputs": [],
   "source": []
  }
 ],
 "metadata": {
  "kernelspec": {
   "display_name": "base",
   "language": "python",
   "name": "python3"
  },
  "language_info": {
   "codemirror_mode": {
    "name": "ipython",
    "version": 3
   },
   "file_extension": ".py",
   "mimetype": "text/x-python",
   "name": "python",
   "nbconvert_exporter": "python",
   "pygments_lexer": "ipython3",
   "version": "3.12.4"
  }
 },
 "nbformat": 4,
 "nbformat_minor": 2
}
