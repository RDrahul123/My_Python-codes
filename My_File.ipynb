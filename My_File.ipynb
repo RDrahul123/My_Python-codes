{
 "cells": [
  {
   "cell_type": "markdown",
   "metadata": {},
   "source": [
    "# Heading!!\n",
    "## Markdown Subheading\n",
    "### Markdown Paragraph"
   ]
  },
  {
   "cell_type": "code",
   "execution_count": 301,
   "metadata": {},
   "outputs": [
    {
     "name": "stdout",
     "output_type": "stream",
     "text": [
      "Hello World\n",
      "Nameste Duniya\n"
     ]
    }
   ],
   "source": [
    "print(\"Hello World\")\n",
    "print(\"Nameste Duniya\")"
   ]
  },
  {
   "cell_type": "markdown",
   "metadata": {},
   "source": [
    "\n",
    "\n",
    "\n",
    "# Sum of two Numbers"
   ]
  },
  {
   "cell_type": "code",
   "execution_count": 302,
   "metadata": {},
   "outputs": [
    {
     "name": "stdout",
     "output_type": "stream",
     "text": [
      "17\n"
     ]
    }
   ],
   "source": [
    "x=9\n",
    "y=8\n",
    "print(x+y)"
   ]
  },
  {
   "cell_type": "markdown",
   "metadata": {},
   "source": [
    "# List Operations"
   ]
  },
  {
   "cell_type": "code",
   "execution_count": 303,
   "metadata": {},
   "outputs": [
    {
     "name": "stdout",
     "output_type": "stream",
     "text": [
      "[1, 2, 3, 4, 5]\n",
      "[1, 2, 3, 4, 5, 6]\n",
      "[1, 2, 4, 5, 6]\n",
      "[1, 2, 3, 4, 5, 6]\n"
     ]
    }
   ],
   "source": [
    "mylist= [1,2,3,4,5]\n",
    "print(mylist)\n",
    "mylist.append(6)\n",
    "print(mylist)\n",
    "mylist.remove(3)\n",
    "print(mylist)\n",
    "mylist.insert(2,3)\n",
    "print(mylist)"
   ]
  },
  {
   "cell_type": "markdown",
   "metadata": {},
   "source": [
    "# Tuple Operations"
   ]
  },
  {
   "cell_type": "code",
   "execution_count": 304,
   "metadata": {},
   "outputs": [
    {
     "name": "stdout",
     "output_type": "stream",
     "text": [
      "(1, 2, 3, 4, 5)\n",
      "3\n",
      "(1, 2, 3, 4, 5, 6)\n",
      "1\n",
      "2\n"
     ]
    }
   ],
   "source": [
    "mytuple= (1,2,3,4,5)\n",
    "print(mytuple)\n",
    "print(mytuple[2])\n",
    "mytuple= mytuple + (6,)\n",
    "print(mytuple)\n",
    "print(mytuple.count(3))\n",
    "print(mytuple.index(3))"
   ]
  },
  {
   "cell_type": "markdown",
   "metadata": {},
   "source": [
    "# Dictionaries Operations"
   ]
  },
  {
   "cell_type": "code",
   "execution_count": 305,
   "metadata": {},
   "outputs": [
    {
     "name": "stdout",
     "output_type": "stream",
     "text": [
      "{'a': 1, 'b': 2, 'c': 3}\n",
      "{'a': 1, 'b': 2, 'c': 3, 'd': 4}\n"
     ]
    }
   ],
   "source": [
    "mydict= {'a':1, 'b':2, 'c':3}\n",
    "print(mydict)\n",
    "mydict.update({'d': 4})\n",
    "print(mydict)"
   ]
  },
  {
   "cell_type": "markdown",
   "metadata": {},
   "source": [
    "# Numpy"
   ]
  },
  {
   "cell_type": "code",
   "execution_count": 306,
   "metadata": {},
   "outputs": [],
   "source": [
    "import numpy as np\n"
   ]
  },
  {
   "cell_type": "code",
   "execution_count": 307,
   "metadata": {},
   "outputs": [
    {
     "name": "stdout",
     "output_type": "stream",
     "text": [
      "[1 2 3]\n",
      "['1' '2' '3']\n",
      "1\n",
      "1\n"
     ]
    }
   ],
   "source": [
    "list1= np.array([1, 2, 3]) \n",
    "tuple1= np.array((\"1\", \"2\", \"3\"))\n",
    "print(list1)\n",
    "print(tuple1)\n",
    "print(list1.ndim)\n",
    "print(tuple1.ndim)"
   ]
  },
  {
   "cell_type": "code",
   "execution_count": 308,
   "metadata": {},
   "outputs": [
    {
     "name": "stdout",
     "output_type": "stream",
     "text": [
      "<class 'numpy.ndarray'>\n",
      "int32\n"
     ]
    }
   ],
   "source": [
    "print(type(list1))\n",
    "print(list1.dtype)"
   ]
  },
  {
   "cell_type": "code",
   "execution_count": 309,
   "metadata": {},
   "outputs": [
    {
     "name": "stdout",
     "output_type": "stream",
     "text": [
      "3\n"
     ]
    }
   ],
   "source": [
    "list2= np.array([\"1\", \"2\", \"5\"], dtype= \"i\")\n",
    "print(list1[2])"
   ]
  },
  {
   "cell_type": "code",
   "execution_count": 310,
   "metadata": {},
   "outputs": [
    {
     "name": "stdout",
     "output_type": "stream",
     "text": [
      "[1 2 3]\n",
      "[5 2 3]\n"
     ]
    }
   ],
   "source": [
    "list2= list1.copy()\n",
    "list2[0]= 5\n",
    "print(list1)\n",
    "print(list2)"
   ]
  },
  {
   "cell_type": "code",
   "execution_count": 311,
   "metadata": {},
   "outputs": [
    {
     "name": "stdout",
     "output_type": "stream",
     "text": [
      "[7 2 3]\n",
      "[7 2 3]\n"
     ]
    }
   ],
   "source": [
    "list3= list2.view()\n",
    "list3[0]= 7\n",
    "print(list3)\n",
    "print(list2)"
   ]
  },
  {
   "cell_type": "code",
   "execution_count": 312,
   "metadata": {},
   "outputs": [
    {
     "name": "stdout",
     "output_type": "stream",
     "text": [
      "[[ 1  2  3]\n",
      " [ 4  5  6]\n",
      " [ 7  8  9]\n",
      " [10 11 12]]\n"
     ]
    }
   ],
   "source": [
    "list4= np.array((1, 2, 3, 4, 5, 6, 7, 8, 9, 10, 11, 12))\n",
    "newarray= list4.reshape(4,3)\n",
    "print(newarray)\n",
    "#newarray= list4.reshape(-1)\n",
    "#print(newarray)"
   ]
  },
  {
   "cell_type": "code",
   "execution_count": 313,
   "metadata": {},
   "outputs": [
    {
     "name": "stdout",
     "output_type": "stream",
     "text": [
      "[[ 3  2  1]\n",
      " [ 6  5  4]\n",
      " [ 9  8  7]\n",
      " [12 11 10]]\n"
     ]
    }
   ],
   "source": [
    "newarray[:, [2,0]]= newarray[:, [0,2]]\n",
    "print(newarray)"
   ]
  },
  {
   "cell_type": "code",
   "execution_count": 314,
   "metadata": {},
   "outputs": [
    {
     "name": "stdout",
     "output_type": "stream",
     "text": [
      "[0 1 2 3 4 5 6 7 8]\n"
     ]
    }
   ],
   "source": [
    "sortarray= np.array([3, 2, 0, 1, 8, 6, 4, 5, 7])\n",
    "print(np.sort(sortarray))"
   ]
  },
  {
   "cell_type": "code",
   "execution_count": 315,
   "metadata": {},
   "outputs": [
    {
     "name": "stdout",
     "output_type": "stream",
     "text": [
      "['Aman' 'Aman' 'Diya' 'Lakshy' 'Nandini' 'Rahul']\n"
     ]
    }
   ],
   "source": [
    "sortarr= np.array(['Lakshy', 'Aman', 'Nandini', 'Diya', 'Rahul', 'Aman'])\n",
    "print(np.sort(sortarr))"
   ]
  },
  {
   "cell_type": "code",
   "execution_count": 316,
   "metadata": {},
   "outputs": [
    {
     "name": "stdout",
     "output_type": "stream",
     "text": [
      "['Lakshy' 'Shyam']\n",
      "['Diya' 'Shyam' 'Aman' 'Lakshy']\n"
     ]
    }
   ],
   "source": [
    "sortarr= np.array(['Lakshy', 'Aman', 'Shyam', 'Diya'])\n",
    "x= [True, False, True, False]\n",
    "newarr= sortarr[x]\n",
    "print(newarr)\n",
    "#print(\"Reverse Order:\" ,sortarr[::-1])\n",
    "print(np.flip(sortarr, axis=0))"
   ]
  },
  {
   "cell_type": "code",
   "execution_count": 317,
   "metadata": {},
   "outputs": [
    {
     "name": "stdout",
     "output_type": "stream",
     "text": [
      "[ 6  7  8  9 10]\n"
     ]
    }
   ],
   "source": [
    "arr4= np.array([1, 2, 3, 4, 5, 6, 7, 8, 9, 10])\n",
    "condition= arr4>5\n",
    "newarr= arr4[condition]\n",
    "print(newarr)"
   ]
  },
  {
   "cell_type": "code",
   "execution_count": 318,
   "metadata": {},
   "outputs": [
    {
     "name": "stdout",
     "output_type": "stream",
     "text": [
      "9\n",
      "-3\n",
      "18\n",
      "0.5\n",
      "3\n"
     ]
    }
   ],
   "source": [
    "print(arr4[2]+ arr4[5])\n",
    "print(arr4[2]- arr4[5])\n",
    "print(arr4[2]* arr4[5])\n",
    "print(arr4[2]/ arr4[5])\n",
    "print(arr4[2]% arr4[5])"
   ]
  },
  {
   "cell_type": "code",
   "execution_count": 319,
   "metadata": {},
   "outputs": [
    {
     "name": "stdout",
     "output_type": "stream",
     "text": [
      "[ 7  9 11 13 15]\n",
      "[ 1  2  3  4  5  6  7  8  9 10]\n"
     ]
    }
   ],
   "source": [
    "arr5= np.array([1, 2, 3, 4, 5])\n",
    "arr6= np.array([6, 7, 8, 9, 10])\n",
    "print(np.add(arr5, arr6))  #Addition \n",
    "print(np.concatenate((arr5, arr6))) #Concatenation\n"
   ]
  },
  {
   "cell_type": "markdown",
   "metadata": {},
   "source": [
    "There is a difference between add and concate. Remember add function actually performs addition addition while concate function combines the values of an array."
   ]
  },
  {
   "cell_type": "code",
   "execution_count": 320,
   "metadata": {},
   "outputs": [
    {
     "name": "stdout",
     "output_type": "stream",
     "text": [
      "[5 3 1 4 2]\n",
      "[5 3 1 4 2]\n",
      "[5 3 1 4 2]\n"
     ]
    }
   ],
   "source": [
    "from numpy import random\n",
    "random.shuffle(arr5)\n",
    "print(arr5)\n",
    "random.permutation(arr5)\n",
    "print(arr5)\n",
    "print(arr5)"
   ]
  },
  {
   "cell_type": "code",
   "execution_count": 321,
   "metadata": {},
   "outputs": [
    {
     "name": "stdout",
     "output_type": "stream",
     "text": [
      "[array([1, 2, 3, 4, 5]), array([ 6,  7,  8,  9, 10]), array([10, 11, 12, 12, 12]), array([13, 14, 15, 16, 17]), array([18, 19, 20, 21, 22])]\n",
      "(25,)\n",
      "[22 21 20 19 18 17 16 15 14 13 12 12 12 11 10 10  9  8  7  6  5  4  3  2\n",
      "  1]\n",
      "[ 1  2  3  4  5  6  7  8  9 10 11 12 13 14 15 16 17 18 19 20 21 22]\n"
     ]
    }
   ],
   "source": [
    "arr7= np.array([1, 2, 3, 4, 5, 6, 7, 8, 9, 10, 10, 11, 12, 12, 12, 13, 14, 15, 16, 17, 18, 19, 20, 21, 22])\n",
    "print(np.split(arr7, 5))\n",
    "print(arr7.shape)\n",
    "print(np.flip(arr7))\n",
    "print(np.unique(arr7))"
   ]
  },
  {
   "cell_type": "code",
   "execution_count": 322,
   "metadata": {},
   "outputs": [
    {
     "name": "stdout",
     "output_type": "stream",
     "text": [
      "[ 1.  2.  3.  4.  5.  6.  7.  8.  9. 10. 10. 11. 12. 12. 12. 13. 14. 15.\n",
      " 16. 17. 18. 19. 20. 21. 22.]\n"
     ]
    }
   ],
   "source": [
    "np.savetxt('newfile4.csv', arr7)\n",
    "arr8= np.loadtxt('newfile4.csv')\n",
    "print(arr8)\n",
    "# print(np.load('newfile.npy'))"
   ]
  },
  {
   "cell_type": "markdown",
   "metadata": {},
   "source": [
    "## Leniar Algebra Operations"
   ]
  },
  {
   "cell_type": "code",
   "execution_count": 323,
   "metadata": {},
   "outputs": [
    {
     "name": "stdout",
     "output_type": "stream",
     "text": [
      "-2.9999999999999996\n",
      "[[-1.66666667  0.66666667]\n",
      " [ 1.33333333 -0.33333333]]\n",
      "2\n"
     ]
    }
   ],
   "source": [
    "from numpy import linalg\n",
    "# import numpy as np\n",
    "a= np.array([[1, 2], [4, 5]])\n",
    "b= np.array([[7, 8], [10, 11]])\n",
    "\n",
    "# print(np.dot(a, b))\n",
    "# print(np.matmul(a, b))\n",
    "print(np.linalg.det(a))\n",
    "print(np.linalg.inv(a))\n",
    "print(np.linalg.matrix_rank(a))"
   ]
  },
  {
   "cell_type": "markdown",
   "metadata": {},
   "source": [
    "## np.randon.seed\n",
    "\n",
    "The np.random.seed() function is crucial for ensuring reproducibility in your code when generating random numbers. Without setting a seed, NumPy will produce different random numbers every time you run the code."
   ]
  },
  {
   "cell_type": "code",
   "execution_count": 324,
   "metadata": {},
   "outputs": [
    {
     "name": "stdout",
     "output_type": "stream",
     "text": [
      "[[ 1.62434536 -0.61175641 -0.52817175]\n",
      " [-1.07296862  0.86540763 -2.3015387 ]\n",
      " [ 1.74481176 -0.7612069   0.3190391 ]]\n",
      "[[3 5 8]\n",
      " [8 2 8]\n",
      " [1 7 8]]\n",
      "['e' 'e' 'a' 'u']\n"
     ]
    }
   ],
   "source": [
    "np.random.seed(1)          # Ensures reproducibility\n",
    "#print(np.random.rand(3, 3)) # Uniform distribution\n",
    "print(np.random.randn(3, 3))# Normal distribution\n",
    "print(np.random.randint(1, 10, (3, 3))) # Random integers\n",
    "print(np.random.choice(['a', 'e', 'i', 'o', 'u'], 4)) # Random choice"
   ]
  },
  {
   "cell_type": "code",
   "execution_count": 325,
   "metadata": {},
   "outputs": [
    {
     "name": "stdout",
     "output_type": "stream",
     "text": [
      "[[2 1 1]\n",
      " [4 3 2]\n",
      " [1 4 2]]\n",
      "[5 3 1 4 2]\n"
     ]
    }
   ],
   "source": [
    "print(np.random.choice([1, 2, 3, 4, 5], size= (3, 3))) # Random choice\n",
    "print(np.random.permutation([1, 2, 3, 4, 5])) # Random permutation"
   ]
  },
  {
   "cell_type": "code",
   "execution_count": 326,
   "metadata": {},
   "outputs": [
    {
     "name": "stdout",
     "output_type": "stream",
     "text": [
      "Loaded Array:\n",
      "[ 1.  2.  3.  4.  5.  6.  7.  8.  9. 10. 10. 11. 12. 12. 12. 13. 14. 15.\n",
      " 16. 17. 18. 19. 20. 21. 22.]\n",
      "Loaded Array:\n",
      "[ 1  2  3  4  5  6  7  8  9 10 10 11 12 12 12 13 14 15 16 17 18 19 20 21\n",
      " 22]\n"
     ]
    }
   ],
   "source": [
    "# Save an array to a CSV file\n",
    "np.savetxt('array_data.csv', arr7, delimiter=',')\n",
    "\n",
    "# Load the array back from the CSV file\n",
    "loaded_array = np.loadtxt('array_data.csv', delimiter=',')\n",
    "print(\"Loaded Array:\")\n",
    "print(loaded_array)\n",
    "\n",
    "np.save('array_data.npy', arr7) # Save an array to a binary file\n",
    "loaded_array = np.load('array_data.npy') # Load the array back from the binary file\n",
    "print(\"Loaded Array:\")\n",
    "print(loaded_array)"
   ]
  },
  {
   "cell_type": "code",
   "execution_count": 327,
   "metadata": {},
   "outputs": [
    {
     "name": "stdout",
     "output_type": "stream",
     "text": [
      "56.0\n",
      "3.5\n",
      "21\n"
     ]
    }
   ],
   "source": [
    "arr56= np.array([1, 2, 3, 4, 5, 6])\n",
    "print(np.mean(56))\n",
    "print(np.median(arr56))\n",
    "print(np.sum(arr56))"
   ]
  },
  {
   "cell_type": "markdown",
   "metadata": {},
   "source": [
    "# Pandas"
   ]
  },
  {
   "cell_type": "markdown",
   "metadata": {},
   "source": [
    "In pandas data is stored in the format of Dictionary and hence key value pairs are required. On the other hand data shown in the output is in the form of table for better understability and apperance. "
   ]
  },
  {
   "cell_type": "code",
   "execution_count": 328,
   "metadata": {},
   "outputs": [],
   "source": [
    "import pandas as pd"
   ]
  },
  {
   "cell_type": "code",
   "execution_count": 329,
   "metadata": {},
   "outputs": [
    {
     "name": "stdout",
     "output_type": "stream",
     "text": [
      "    Name Age    City\n",
      "0  Rahul  26  Indore\n",
      "1    Ram  14    Pune\n",
      "2  shyam  17  Mumbai\n"
     ]
    }
   ],
   "source": [
    "dict= { 'Name': ['Rahul' , 'Ram', 'shyam'], \n",
    "       'Age': ['26', '14', '17'],\n",
    "       'City': ['Indore', 'Pune', 'Mumbai']\n",
    "}\n",
    "\n",
    "a= pd.DataFrame(dict)\n",
    "print(a)"
   ]
  },
  {
   "cell_type": "code",
   "execution_count": 330,
   "metadata": {},
   "outputs": [
    {
     "name": "stdout",
     "output_type": "stream",
     "text": [
      "1    10\n",
      "2    20\n",
      "3    30\n",
      "4    40\n",
      "5    50\n",
      "dtype: int64\n"
     ]
    }
   ],
   "source": [
    "data= [10, 20, 30, 40, 50]\n",
    "series= pd.Series(data, index=[1, 2, 3, 4, 5])\n",
    "print(series)"
   ]
  },
  {
   "cell_type": "code",
   "execution_count": 331,
   "metadata": {},
   "outputs": [
    {
     "name": "stdout",
     "output_type": "stream",
     "text": [
      "      Name  Age         City Gender\n",
      "a    Alice   25     New York      M\n",
      "b      Bob   30  Los Angeles      M\n",
      "c  Charlie   35      Chicago      F\n"
     ]
    }
   ],
   "source": [
    "data = {\n",
    "    'Name': ['Alice', 'Bob', 'Charlie'],\n",
    "    'Age': [25, 30, 35],\n",
    "    'City': ['New York', 'Los Angeles', 'Chicago'], \n",
    "    'Gender': ['M', 'M', 'F']\n",
    "}\n",
    "\n",
    "df = pd.DataFrame(data, index=['a', 'b', 'c'])\n",
    "print(df)"
   ]
  },
  {
   "cell_type": "markdown",
   "metadata": {},
   "source": [
    "# Operations on DataFrame"
   ]
  },
  {
   "cell_type": "code",
   "execution_count": 332,
   "metadata": {},
   "outputs": [
    {
     "name": "stdout",
     "output_type": "stream",
     "text": [
      "      Name  Age         City Gender\n",
      "a    Alice   25     New York      M\n",
      "b      Bob   30  Los Angeles      M\n",
      "c  Charlie   35      Chicago      F\n"
     ]
    }
   ],
   "source": [
    "print(df.head()) # Display the first 5 rows of the DataFrame"
   ]
  },
  {
   "cell_type": "code",
   "execution_count": 333,
   "metadata": {},
   "outputs": [
    {
     "name": "stdout",
     "output_type": "stream",
     "text": [
      "      Name  Age         City Gender\n",
      "a    Alice   25     New York      M\n",
      "b      Bob   30  Los Angeles      M\n",
      "c  Charlie   35      Chicago      F\n"
     ]
    }
   ],
   "source": [
    "print(df.tail()) # Display the last 5 rows of the DataFrame "
   ]
  },
  {
   "cell_type": "code",
   "execution_count": 334,
   "metadata": {},
   "outputs": [
    {
     "name": "stdout",
     "output_type": "stream",
     "text": [
      "<class 'pandas.core.frame.DataFrame'>\n",
      "Index: 3 entries, a to c\n",
      "Data columns (total 4 columns):\n",
      " #   Column  Non-Null Count  Dtype \n",
      "---  ------  --------------  ----- \n",
      " 0   Name    3 non-null      object\n",
      " 1   Age     3 non-null      int64 \n",
      " 2   City    3 non-null      object\n",
      " 3   Gender  3 non-null      object\n",
      "dtypes: int64(1), object(3)\n",
      "memory usage: 120.0+ bytes\n",
      "None\n"
     ]
    }
   ],
   "source": [
    "print(df.info()) # Display information about the DataFrame"
   ]
  },
  {
   "cell_type": "code",
   "execution_count": 335,
   "metadata": {},
   "outputs": [
    {
     "name": "stdout",
     "output_type": "stream",
     "text": [
      "        Age\n",
      "count   3.0\n",
      "mean   30.0\n",
      "std     5.0\n",
      "min    25.0\n",
      "25%    27.5\n",
      "50%    30.0\n",
      "75%    32.5\n",
      "max    35.0\n"
     ]
    }
   ],
   "source": [
    "print(df.describe()) # Display summary statistics of the DataFrame"
   ]
  },
  {
   "cell_type": "code",
   "execution_count": 336,
   "metadata": {},
   "outputs": [
    {
     "name": "stdout",
     "output_type": "stream",
     "text": [
      "Name         Alice\n",
      "Age             25\n",
      "City      New York\n",
      "Gender           M\n",
      "Name: a, dtype: object\n"
     ]
    }
   ],
   "source": [
    "print(df.loc['a']) # Access row by label"
   ]
  },
  {
   "cell_type": "code",
   "execution_count": 337,
   "metadata": {},
   "outputs": [
    {
     "name": "stdout",
     "output_type": "stream",
     "text": [
      "a    False\n",
      "b    False\n",
      "c     True\n",
      "Name: Age, dtype: bool\n"
     ]
    }
   ],
   "source": [
    "print(df['Age']>30) # Boolean indexing"
   ]
  },
  {
   "cell_type": "code",
   "execution_count": 338,
   "metadata": {},
   "outputs": [
    {
     "name": "stdout",
     "output_type": "stream",
     "text": [
      "      Name  Age     City Gender\n",
      "c  Charlie   35  Chicago      F\n"
     ]
    }
   ],
   "source": [
    "print(df[df['Age']>30]) # Filter rows based on condition"
   ]
  },
  {
   "cell_type": "code",
   "execution_count": 339,
   "metadata": {},
   "outputs": [
    {
     "name": "stdout",
     "output_type": "stream",
     "text": [
      "Name         Alice\n",
      "Age             25\n",
      "City      New York\n",
      "Gender           M\n",
      "Name: a, dtype: object\n"
     ]
    }
   ],
   "source": [
    "print(df.iloc[0]) # Access row by index position\n",
    "# print(df.iloc[1]) # Access row by index position"
   ]
  },
  {
   "cell_type": "code",
   "execution_count": 340,
   "metadata": {},
   "outputs": [
    {
     "name": "stdout",
     "output_type": "stream",
     "text": [
      "    Name  Age         City Gender\n",
      "a  Alice   25     New York      M\n",
      "b    Bob   30  Los Angeles      M\n"
     ]
    }
   ],
   "source": [
    "print(df.iloc[0:2]) # Access multiple rows by index position    "
   ]
  },
  {
   "cell_type": "code",
   "execution_count": 341,
   "metadata": {},
   "outputs": [
    {
     "name": "stdout",
     "output_type": "stream",
     "text": [
      "a    25\n",
      "b    30\n",
      "c    35\n",
      "Name: Age, dtype: int64\n",
      "   Age         City\n",
      "a   25     New York\n",
      "b   30  Los Angeles\n",
      "c   35      Chicago\n"
     ]
    }
   ],
   "source": [
    "print(df.iloc[:, 1]) # Access a specific column by index position\n",
    "print(df.iloc[:, 1:3]) # Access multiple columns by index position"
   ]
  },
  {
   "cell_type": "markdown",
   "metadata": {},
   "source": [
    "# Reading Json file\n",
    "Here we are going to read a json file Top 100 Largest Banks.json and then will perform data manipulation in this json file. "
   ]
  },
  {
   "cell_type": "code",
   "execution_count": 342,
   "metadata": {},
   "outputs": [
    {
     "name": "stdout",
     "output_type": "stream",
     "text": [
      "    Rank                                Bank Name  \\\n",
      "0      1  Industrial and Commercial Bank of China   \n",
      "1      2               Agricultural Bank of China   \n",
      "2      3                  China Construction Bank   \n",
      "3      4                            Bank of China   \n",
      "4      5                           JPMorgan Chase   \n",
      "..   ...                                      ...   \n",
      "95    96                         Raiffeisen Group   \n",
      "96    97                            Handelsbanken   \n",
      "97    98                 Industrial Bank of Korea   \n",
      "98    99                                      DNB   \n",
      "99   100                      Qatar National Bank   \n",
      "\n",
      "   Total Assets (2023, US$ billion)  \n",
      "0                          6,303.44  \n",
      "1                          5,623.12  \n",
      "2                          5,400.28  \n",
      "3                          4,578.28  \n",
      "4                          3,875.39  \n",
      "..                              ...  \n",
      "95                           352.87  \n",
      "96                           351.79  \n",
      "97                           345.81  \n",
      "98                           339.21  \n",
      "99                           338.14  \n",
      "\n",
      "[100 rows x 3 columns]\n"
     ]
    }
   ],
   "source": [
    "data= pd.read_json('Top 100 Largest Banks.json') # Read a CSV file into a DataFrame\n",
    "print(data)"
   ]
  },
  {
   "cell_type": "markdown",
   "metadata": {},
   "source": [
    "Writing CSV file"
   ]
  },
  {
   "cell_type": "code",
   "execution_count": 343,
   "metadata": {},
   "outputs": [],
   "source": [
    "data.to_csv('output.csv', index=False) # Write the DataFrame to a CSV file\n",
    "data.to_excel('output.xlsx', index=False) # Write the DataFrame to an Excel file"
   ]
  },
  {
   "cell_type": "markdown",
   "metadata": {},
   "source": [
    "Checking Null values in The above CSV file"
   ]
  },
  {
   "cell_type": "code",
   "execution_count": 344,
   "metadata": {},
   "outputs": [
    {
     "data": {
      "text/plain": [
       "Rank                                0\n",
       "Bank Name                           0\n",
       "Total Assets (2023, US$ billion)    0\n",
       "dtype: int64"
      ]
     },
     "execution_count": 344,
     "metadata": {},
     "output_type": "execute_result"
    }
   ],
   "source": [
    "data.isnull().sum() # Check for missing values in the DataFrame\n",
    "# data.dropna() # Drop rows with missing values\n",
    "# data.fillna(0) # Fill missing values with 0"
   ]
  },
  {
   "cell_type": "markdown",
   "metadata": {},
   "source": [
    "Single and Multiple Conditions"
   ]
  },
  {
   "cell_type": "code",
   "execution_count": 345,
   "metadata": {},
   "outputs": [
    {
     "data": {
      "application/vnd.microsoft.datawrangler.viewer.v0+json": {
       "columns": [
        {
         "name": "index",
         "rawType": "int64",
         "type": "integer"
        },
        {
         "name": "Rank",
         "rawType": "int64",
         "type": "integer"
        },
        {
         "name": "Bank Name",
         "rawType": "object",
         "type": "string"
        },
        {
         "name": "Total Assets (2023, US$ billion)",
         "rawType": "object",
         "type": "string"
        }
       ],
       "conversionMethod": "pd.DataFrame",
       "ref": "ac9f03b4-b5a1-4718-bd36-aed03dcc7dd7",
       "rows": [
        [
         "0",
         "1",
         "Industrial and Commercial Bank of China",
         "6,303.44"
        ],
        [
         "1",
         "2",
         "Agricultural Bank of China",
         "5,623.12"
        ],
        [
         "2",
         "3",
         "China Construction Bank",
         "5,400.28"
        ],
        [
         "3",
         "4",
         "Bank of China",
         "4,578.28"
        ],
        [
         "4",
         "5",
         "JPMorgan Chase",
         "3,875.39"
        ],
        [
         "5",
         "6",
         "Bank of America",
         "3,180.15"
        ],
        [
         "6",
         "7",
         "HSBC",
         "2,919.84"
        ],
        [
         "7",
         "8",
         "BNP Paribas",
         "2,867.44"
        ],
        [
         "8",
         "9",
         "Mitsubishi UFJ Financial Group",
         "2,816.77"
        ]
       ],
       "shape": {
        "columns": 3,
        "rows": 9
       }
      },
      "text/html": [
       "<div>\n",
       "<style scoped>\n",
       "    .dataframe tbody tr th:only-of-type {\n",
       "        vertical-align: middle;\n",
       "    }\n",
       "\n",
       "    .dataframe tbody tr th {\n",
       "        vertical-align: top;\n",
       "    }\n",
       "\n",
       "    .dataframe thead th {\n",
       "        text-align: right;\n",
       "    }\n",
       "</style>\n",
       "<table border=\"1\" class=\"dataframe\">\n",
       "  <thead>\n",
       "    <tr style=\"text-align: right;\">\n",
       "      <th></th>\n",
       "      <th>Rank</th>\n",
       "      <th>Bank Name</th>\n",
       "      <th>Total Assets (2023, US$ billion)</th>\n",
       "    </tr>\n",
       "  </thead>\n",
       "  <tbody>\n",
       "    <tr>\n",
       "      <th>0</th>\n",
       "      <td>1</td>\n",
       "      <td>Industrial and Commercial Bank of China</td>\n",
       "      <td>6,303.44</td>\n",
       "    </tr>\n",
       "    <tr>\n",
       "      <th>1</th>\n",
       "      <td>2</td>\n",
       "      <td>Agricultural Bank of China</td>\n",
       "      <td>5,623.12</td>\n",
       "    </tr>\n",
       "    <tr>\n",
       "      <th>2</th>\n",
       "      <td>3</td>\n",
       "      <td>China Construction Bank</td>\n",
       "      <td>5,400.28</td>\n",
       "    </tr>\n",
       "    <tr>\n",
       "      <th>3</th>\n",
       "      <td>4</td>\n",
       "      <td>Bank of China</td>\n",
       "      <td>4,578.28</td>\n",
       "    </tr>\n",
       "    <tr>\n",
       "      <th>4</th>\n",
       "      <td>5</td>\n",
       "      <td>JPMorgan Chase</td>\n",
       "      <td>3,875.39</td>\n",
       "    </tr>\n",
       "    <tr>\n",
       "      <th>5</th>\n",
       "      <td>6</td>\n",
       "      <td>Bank of America</td>\n",
       "      <td>3,180.15</td>\n",
       "    </tr>\n",
       "    <tr>\n",
       "      <th>6</th>\n",
       "      <td>7</td>\n",
       "      <td>HSBC</td>\n",
       "      <td>2,919.84</td>\n",
       "    </tr>\n",
       "    <tr>\n",
       "      <th>7</th>\n",
       "      <td>8</td>\n",
       "      <td>BNP Paribas</td>\n",
       "      <td>2,867.44</td>\n",
       "    </tr>\n",
       "    <tr>\n",
       "      <th>8</th>\n",
       "      <td>9</td>\n",
       "      <td>Mitsubishi UFJ Financial Group</td>\n",
       "      <td>2,816.77</td>\n",
       "    </tr>\n",
       "  </tbody>\n",
       "</table>\n",
       "</div>"
      ],
      "text/plain": [
       "   Rank                                Bank Name  \\\n",
       "0     1  Industrial and Commercial Bank of China   \n",
       "1     2               Agricultural Bank of China   \n",
       "2     3                  China Construction Bank   \n",
       "3     4                            Bank of China   \n",
       "4     5                           JPMorgan Chase   \n",
       "5     6                          Bank of America   \n",
       "6     7                                     HSBC   \n",
       "7     8                              BNP Paribas   \n",
       "8     9           Mitsubishi UFJ Financial Group   \n",
       "\n",
       "  Total Assets (2023, US$ billion)  \n",
       "0                         6,303.44  \n",
       "1                         5,623.12  \n",
       "2                         5,400.28  \n",
       "3                         4,578.28  \n",
       "4                         3,875.39  \n",
       "5                         3,180.15  \n",
       "6                         2,919.84  \n",
       "7                         2,867.44  \n",
       "8                         2,816.77  "
      ]
     },
     "execution_count": 345,
     "metadata": {},
     "output_type": "execute_result"
    }
   ],
   "source": [
    "data[data[\"Rank\"]< 10] # Filter rows based on condition"
   ]
  },
  {
   "cell_type": "markdown",
   "metadata": {},
   "source": [
    "Renaming the file"
   ]
  },
  {
   "cell_type": "code",
   "execution_count": 346,
   "metadata": {},
   "outputs": [
    {
     "name": "stdout",
     "output_type": "stream",
     "text": [
      "   Rank                                Bank Name  \\\n",
      "0     1  Industrial and Commercial Bank of China   \n",
      "1     2               Agricultural Bank of China   \n",
      "2     3                  China Construction Bank   \n",
      "3     4                            Bank of China   \n",
      "4     5                           JPMorgan Chase   \n",
      "\n",
      "  Total Assets (2023, US$ billion)  \n",
      "0                         6,303.44  \n",
      "1                         5,623.12  \n",
      "2                         5,400.28  \n",
      "3                         4,578.28  \n",
      "4                         3,875.39  \n"
     ]
    }
   ],
   "source": [
    "data= pd.read_csv('output.csv') # Read a CSV file into a DataFrame\n",
    "print(data.head()) # Display the first 5 rows of the DataFrame"
   ]
  },
  {
   "cell_type": "markdown",
   "metadata": {},
   "source": [
    "Renaming the column"
   ]
  },
  {
   "cell_type": "code",
   "execution_count": 347,
   "metadata": {},
   "outputs": [],
   "source": [
    "data.rename(columns={'Total Assets (2023, US$ billion)': 'Assets'}, inplace=True)"
   ]
  },
  {
   "cell_type": "code",
   "execution_count": 348,
   "metadata": {},
   "outputs": [
    {
     "data": {
      "application/vnd.microsoft.datawrangler.viewer.v0+json": {
       "columns": [
        {
         "name": "index",
         "rawType": "int64",
         "type": "integer"
        },
        {
         "name": "Rank",
         "rawType": "int64",
         "type": "integer"
        },
        {
         "name": "Bank Name",
         "rawType": "object",
         "type": "string"
        },
        {
         "name": "Assets",
         "rawType": "object",
         "type": "string"
        }
       ],
       "conversionMethod": "pd.DataFrame",
       "ref": "98e62841-31a0-4050-986a-72dcb26d712e",
       "rows": [
        [
         "0",
         "1",
         "Industrial and Commercial Bank of China",
         "6,303.44"
        ],
        [
         "1",
         "2",
         "Agricultural Bank of China",
         "5,623.12"
        ],
        [
         "2",
         "3",
         "China Construction Bank",
         "5,400.28"
        ],
        [
         "3",
         "4",
         "Bank of China",
         "4,578.28"
        ],
        [
         "4",
         "5",
         "JPMorgan Chase",
         "3,875.39"
        ],
        [
         "5",
         "6",
         "Bank of America",
         "3,180.15"
        ],
        [
         "6",
         "7",
         "HSBC",
         "2,919.84"
        ],
        [
         "7",
         "8",
         "BNP Paribas",
         "2,867.44"
        ],
        [
         "8",
         "9",
         "Mitsubishi UFJ Financial Group",
         "2,816.77"
        ],
        [
         "9",
         "10",
         "Crédit Agricole",
         "2,736.95"
        ]
       ],
       "shape": {
        "columns": 3,
        "rows": 10
       }
      },
      "text/html": [
       "<div>\n",
       "<style scoped>\n",
       "    .dataframe tbody tr th:only-of-type {\n",
       "        vertical-align: middle;\n",
       "    }\n",
       "\n",
       "    .dataframe tbody tr th {\n",
       "        vertical-align: top;\n",
       "    }\n",
       "\n",
       "    .dataframe thead th {\n",
       "        text-align: right;\n",
       "    }\n",
       "</style>\n",
       "<table border=\"1\" class=\"dataframe\">\n",
       "  <thead>\n",
       "    <tr style=\"text-align: right;\">\n",
       "      <th></th>\n",
       "      <th>Rank</th>\n",
       "      <th>Bank Name</th>\n",
       "      <th>Assets</th>\n",
       "    </tr>\n",
       "  </thead>\n",
       "  <tbody>\n",
       "    <tr>\n",
       "      <th>0</th>\n",
       "      <td>1</td>\n",
       "      <td>Industrial and Commercial Bank of China</td>\n",
       "      <td>6,303.44</td>\n",
       "    </tr>\n",
       "    <tr>\n",
       "      <th>1</th>\n",
       "      <td>2</td>\n",
       "      <td>Agricultural Bank of China</td>\n",
       "      <td>5,623.12</td>\n",
       "    </tr>\n",
       "    <tr>\n",
       "      <th>2</th>\n",
       "      <td>3</td>\n",
       "      <td>China Construction Bank</td>\n",
       "      <td>5,400.28</td>\n",
       "    </tr>\n",
       "    <tr>\n",
       "      <th>3</th>\n",
       "      <td>4</td>\n",
       "      <td>Bank of China</td>\n",
       "      <td>4,578.28</td>\n",
       "    </tr>\n",
       "    <tr>\n",
       "      <th>4</th>\n",
       "      <td>5</td>\n",
       "      <td>JPMorgan Chase</td>\n",
       "      <td>3,875.39</td>\n",
       "    </tr>\n",
       "    <tr>\n",
       "      <th>5</th>\n",
       "      <td>6</td>\n",
       "      <td>Bank of America</td>\n",
       "      <td>3,180.15</td>\n",
       "    </tr>\n",
       "    <tr>\n",
       "      <th>6</th>\n",
       "      <td>7</td>\n",
       "      <td>HSBC</td>\n",
       "      <td>2,919.84</td>\n",
       "    </tr>\n",
       "    <tr>\n",
       "      <th>7</th>\n",
       "      <td>8</td>\n",
       "      <td>BNP Paribas</td>\n",
       "      <td>2,867.44</td>\n",
       "    </tr>\n",
       "    <tr>\n",
       "      <th>8</th>\n",
       "      <td>9</td>\n",
       "      <td>Mitsubishi UFJ Financial Group</td>\n",
       "      <td>2,816.77</td>\n",
       "    </tr>\n",
       "    <tr>\n",
       "      <th>9</th>\n",
       "      <td>10</td>\n",
       "      <td>Crédit Agricole</td>\n",
       "      <td>2,736.95</td>\n",
       "    </tr>\n",
       "  </tbody>\n",
       "</table>\n",
       "</div>"
      ],
      "text/plain": [
       "   Rank                                Bank Name    Assets\n",
       "0     1  Industrial and Commercial Bank of China  6,303.44\n",
       "1     2               Agricultural Bank of China  5,623.12\n",
       "2     3                  China Construction Bank  5,400.28\n",
       "3     4                            Bank of China  4,578.28\n",
       "4     5                           JPMorgan Chase  3,875.39\n",
       "5     6                          Bank of America  3,180.15\n",
       "6     7                                     HSBC  2,919.84\n",
       "7     8                              BNP Paribas  2,867.44\n",
       "8     9           Mitsubishi UFJ Financial Group  2,816.77\n",
       "9    10                          Crédit Agricole  2,736.95"
      ]
     },
     "execution_count": 348,
     "metadata": {},
     "output_type": "execute_result"
    }
   ],
   "source": [
    "data.head(10)"
   ]
  },
  {
   "cell_type": "code",
   "execution_count": 349,
   "metadata": {},
   "outputs": [],
   "source": [
    "data.to_csv('output.csv', index=False) # Write the DataFrame to a CSV file"
   ]
  },
  {
   "cell_type": "code",
   "execution_count": 350,
   "metadata": {},
   "outputs": [
    {
     "name": "stdout",
     "output_type": "stream",
     "text": [
      "0     False\n",
      "1     False\n",
      "2     False\n",
      "3     False\n",
      "4     False\n",
      "      ...  \n",
      "95    False\n",
      "96    False\n",
      "97    False\n",
      "98    False\n",
      "99    False\n",
      "Length: 100, dtype: bool\n"
     ]
    }
   ],
   "source": [
    "print(data.duplicated())"
   ]
  },
  {
   "cell_type": "code",
   "execution_count": 351,
   "metadata": {},
   "outputs": [
    {
     "data": {
      "application/vnd.microsoft.datawrangler.viewer.v0+json": {
       "columns": [
        {
         "name": "index",
         "rawType": "int64",
         "type": "integer"
        },
        {
         "name": "Rank",
         "rawType": "int64",
         "type": "integer"
        },
        {
         "name": "Bank Name",
         "rawType": "object",
         "type": "string"
        },
        {
         "name": "Assets",
         "rawType": "object",
         "type": "string"
        }
       ],
       "conversionMethod": "pd.DataFrame",
       "ref": "6db0981a-4c03-4271-b907-002df337cad3",
       "rows": [
        [
         "0",
         "1",
         "Industrial and Commercial Bank of China",
         "6,303.44"
        ],
        [
         "1",
         "2",
         "Agricultural Bank of China",
         "5,623.12"
        ],
        [
         "2",
         "3",
         "China Construction Bank",
         "5,400.28"
        ],
        [
         "3",
         "4",
         "Bank of China",
         "4,578.28"
        ],
        [
         "4",
         "5",
         "JPMorgan Chase",
         "3,875.39"
        ],
        [
         "5",
         "6",
         "Bank of America",
         "3,180.15"
        ],
        [
         "6",
         "7",
         "HSBC",
         "2,919.84"
        ],
        [
         "7",
         "8",
         "BNP Paribas",
         "2,867.44"
        ],
        [
         "8",
         "9",
         "Mitsubishi UFJ Financial Group",
         "2,816.77"
        ],
        [
         "9",
         "10",
         "Crédit Agricole",
         "2,736.95"
        ],
        [
         "10",
         "11",
         "Postal Savings Bank of China",
         "2,217.86"
        ],
        [
         "11",
         "12",
         "Citigroup",
         "2,200.83"
        ],
        [
         "12",
         "13",
         "SMBC Group",
         "2,027.34"
        ],
        [
         "13",
         "14",
         "Banco Santander",
         "1,986.36"
        ],
        [
         "14",
         "15",
         "Bank of Communications",
         "1,982.89"
        ],
        [
         "15",
         "16",
         "Wells Fargo",
         "1,932.47"
        ],
        [
         "16",
         "17",
         "Mizuho Financial Group",
         "1,923.56"
        ],
        [
         "17",
         "18",
         "Barclays",
         "1,891.72"
        ],
        [
         "18",
         "19",
         "Société Générale",
         "1,717.49"
        ],
        [
         "19",
         "20",
         "UBS",
         "1,717.25"
        ],
        [
         "20",
         "21",
         "Groupe BPCE",
         "1,706.80"
        ],
        [
         "21",
         "22",
         "Goldman Sachs",
         "1,641.59"
        ],
        [
         "22",
         "23",
         "Japan Post Bank",
         "1,625.60"
        ],
        [
         "23",
         "24",
         "Royal Bank of Canada",
         "1,566.41"
        ],
        [
         "24",
         "25",
         "China Merchants Bank",
         "1,555.30"
        ],
        [
         "25",
         "26",
         "Deutsche Bank",
         "1,450.57"
        ],
        [
         "26",
         "27",
         "Industrial Bank (China)",
         "1,432.59"
        ],
        [
         "27",
         "28",
         "Toronto-Dominion Bank",
         "1,428.29"
        ],
        [
         "28",
         "29",
         "China CITIC Bank",
         "1,276.63"
        ],
        [
         "29",
         "30",
         "Crédit Mutuel",
         "1,262.95"
        ],
        [
         "30",
         "31",
         "Shanghai Pudong Development Bank",
         "1,207.18"
        ],
        [
         "31",
         "32",
         "Morgan Stanley",
         "1,193.69"
        ],
        [
         "32",
         "33",
         "Lloyds Banking Group",
         "1,122.76"
        ],
        [
         "33",
         "34",
         "China Minsheng Bank",
         "1,082.37"
        ],
        [
         "34",
         "35",
         "ING Group",
         "1,078.35"
        ],
        [
         "35",
         "36",
         "Intesa Sanpaolo",
         "1,066.74"
        ],
        [
         "36",
         "37",
         "Scotiabank",
         "1,041.11"
        ],
        [
         "37",
         "38",
         "Bank of Montreal",
         "990.19"
        ],
        [
         "38",
         "39",
         "China Everbright Bank",
         "955.14"
        ],
        [
         "39",
         "40",
         "NatWest Group",
         "882.30"
        ],
        [
         "40",
         "41",
         "UniCredit",
         "872.90"
        ],
        [
         "41",
         "42",
         "Commonwealth Bank",
         "868.74"
        ],
        [
         "42",
         "43",
         "Banco Bilbao Vizcaya Argentaria",
         "857.25"
        ],
        [
         "43",
         "44",
         "Standard Chartered",
         "822.84"
        ],
        [
         "44",
         "45",
         "La Banque postale",
         "815.91"
        ],
        [
         "45",
         "46",
         "Ping An Bank",
         "787.93"
        ],
        [
         "46",
         "47",
         "State Bank of India",
         "780.05"
        ],
        [
         "47",
         "48",
         "ANZ Group",
         "769.59"
        ],
        [
         "48",
         "49",
         "Canadian Imperial Bank of Commerce",
         "726.27"
        ],
        [
         "49",
         "50",
         "DZ Bank",
         "712.49"
        ]
       ],
       "shape": {
        "columns": 3,
        "rows": 100
       }
      },
      "text/html": [
       "<div>\n",
       "<style scoped>\n",
       "    .dataframe tbody tr th:only-of-type {\n",
       "        vertical-align: middle;\n",
       "    }\n",
       "\n",
       "    .dataframe tbody tr th {\n",
       "        vertical-align: top;\n",
       "    }\n",
       "\n",
       "    .dataframe thead th {\n",
       "        text-align: right;\n",
       "    }\n",
       "</style>\n",
       "<table border=\"1\" class=\"dataframe\">\n",
       "  <thead>\n",
       "    <tr style=\"text-align: right;\">\n",
       "      <th></th>\n",
       "      <th>Rank</th>\n",
       "      <th>Bank Name</th>\n",
       "      <th>Assets</th>\n",
       "    </tr>\n",
       "  </thead>\n",
       "  <tbody>\n",
       "    <tr>\n",
       "      <th>0</th>\n",
       "      <td>1</td>\n",
       "      <td>Industrial and Commercial Bank of China</td>\n",
       "      <td>6,303.44</td>\n",
       "    </tr>\n",
       "    <tr>\n",
       "      <th>1</th>\n",
       "      <td>2</td>\n",
       "      <td>Agricultural Bank of China</td>\n",
       "      <td>5,623.12</td>\n",
       "    </tr>\n",
       "    <tr>\n",
       "      <th>2</th>\n",
       "      <td>3</td>\n",
       "      <td>China Construction Bank</td>\n",
       "      <td>5,400.28</td>\n",
       "    </tr>\n",
       "    <tr>\n",
       "      <th>3</th>\n",
       "      <td>4</td>\n",
       "      <td>Bank of China</td>\n",
       "      <td>4,578.28</td>\n",
       "    </tr>\n",
       "    <tr>\n",
       "      <th>4</th>\n",
       "      <td>5</td>\n",
       "      <td>JPMorgan Chase</td>\n",
       "      <td>3,875.39</td>\n",
       "    </tr>\n",
       "    <tr>\n",
       "      <th>...</th>\n",
       "      <td>...</td>\n",
       "      <td>...</td>\n",
       "      <td>...</td>\n",
       "    </tr>\n",
       "    <tr>\n",
       "      <th>95</th>\n",
       "      <td>96</td>\n",
       "      <td>Raiffeisen Group</td>\n",
       "      <td>352.87</td>\n",
       "    </tr>\n",
       "    <tr>\n",
       "      <th>96</th>\n",
       "      <td>97</td>\n",
       "      <td>Handelsbanken</td>\n",
       "      <td>351.79</td>\n",
       "    </tr>\n",
       "    <tr>\n",
       "      <th>97</th>\n",
       "      <td>98</td>\n",
       "      <td>Industrial Bank of Korea</td>\n",
       "      <td>345.81</td>\n",
       "    </tr>\n",
       "    <tr>\n",
       "      <th>98</th>\n",
       "      <td>99</td>\n",
       "      <td>DNB</td>\n",
       "      <td>339.21</td>\n",
       "    </tr>\n",
       "    <tr>\n",
       "      <th>99</th>\n",
       "      <td>100</td>\n",
       "      <td>Qatar National Bank</td>\n",
       "      <td>338.14</td>\n",
       "    </tr>\n",
       "  </tbody>\n",
       "</table>\n",
       "<p>100 rows × 3 columns</p>\n",
       "</div>"
      ],
      "text/plain": [
       "    Rank                                Bank Name    Assets\n",
       "0      1  Industrial and Commercial Bank of China  6,303.44\n",
       "1      2               Agricultural Bank of China  5,623.12\n",
       "2      3                  China Construction Bank  5,400.28\n",
       "3      4                            Bank of China  4,578.28\n",
       "4      5                           JPMorgan Chase  3,875.39\n",
       "..   ...                                      ...       ...\n",
       "95    96                         Raiffeisen Group    352.87\n",
       "96    97                            Handelsbanken    351.79\n",
       "97    98                 Industrial Bank of Korea    345.81\n",
       "98    99                                      DNB    339.21\n",
       "99   100                      Qatar National Bank    338.14\n",
       "\n",
       "[100 rows x 3 columns]"
      ]
     },
     "execution_count": 351,
     "metadata": {},
     "output_type": "execute_result"
    }
   ],
   "source": [
    "data.drop_duplicates()"
   ]
  },
  {
   "cell_type": "code",
   "execution_count": 352,
   "metadata": {},
   "outputs": [
    {
     "data": {
      "application/vnd.microsoft.datawrangler.viewer.v0+json": {
       "columns": [
        {
         "name": "index",
         "rawType": "object",
         "type": "string"
        },
        {
         "name": "Rank",
         "rawType": "float64",
         "type": "float"
        }
       ],
       "conversionMethod": "pd.DataFrame",
       "ref": "6c84738c-1cf4-48b7-b192-43a56b398d99",
       "rows": [
        [
         "count",
         "100.0"
        ],
        [
         "mean",
         "50.5"
        ],
        [
         "std",
         "29.011491975882016"
        ],
        [
         "min",
         "1.0"
        ],
        [
         "25%",
         "25.75"
        ],
        [
         "50%",
         "50.5"
        ],
        [
         "75%",
         "75.25"
        ],
        [
         "max",
         "100.0"
        ]
       ],
       "shape": {
        "columns": 1,
        "rows": 8
       }
      },
      "text/html": [
       "<div>\n",
       "<style scoped>\n",
       "    .dataframe tbody tr th:only-of-type {\n",
       "        vertical-align: middle;\n",
       "    }\n",
       "\n",
       "    .dataframe tbody tr th {\n",
       "        vertical-align: top;\n",
       "    }\n",
       "\n",
       "    .dataframe thead th {\n",
       "        text-align: right;\n",
       "    }\n",
       "</style>\n",
       "<table border=\"1\" class=\"dataframe\">\n",
       "  <thead>\n",
       "    <tr style=\"text-align: right;\">\n",
       "      <th></th>\n",
       "      <th>Rank</th>\n",
       "    </tr>\n",
       "  </thead>\n",
       "  <tbody>\n",
       "    <tr>\n",
       "      <th>count</th>\n",
       "      <td>100.000000</td>\n",
       "    </tr>\n",
       "    <tr>\n",
       "      <th>mean</th>\n",
       "      <td>50.500000</td>\n",
       "    </tr>\n",
       "    <tr>\n",
       "      <th>std</th>\n",
       "      <td>29.011492</td>\n",
       "    </tr>\n",
       "    <tr>\n",
       "      <th>min</th>\n",
       "      <td>1.000000</td>\n",
       "    </tr>\n",
       "    <tr>\n",
       "      <th>25%</th>\n",
       "      <td>25.750000</td>\n",
       "    </tr>\n",
       "    <tr>\n",
       "      <th>50%</th>\n",
       "      <td>50.500000</td>\n",
       "    </tr>\n",
       "    <tr>\n",
       "      <th>75%</th>\n",
       "      <td>75.250000</td>\n",
       "    </tr>\n",
       "    <tr>\n",
       "      <th>max</th>\n",
       "      <td>100.000000</td>\n",
       "    </tr>\n",
       "  </tbody>\n",
       "</table>\n",
       "</div>"
      ],
      "text/plain": [
       "             Rank\n",
       "count  100.000000\n",
       "mean    50.500000\n",
       "std     29.011492\n",
       "min      1.000000\n",
       "25%     25.750000\n",
       "50%     50.500000\n",
       "75%     75.250000\n",
       "max    100.000000"
      ]
     },
     "execution_count": 352,
     "metadata": {},
     "output_type": "execute_result"
    }
   ],
   "source": [
    "data.describe() # Display summary statistics of the DataFrame"
   ]
  },
  {
   "cell_type": "markdown",
   "metadata": {},
   "source": [
    "# Calculating nth percentile of a column"
   ]
  },
  {
   "cell_type": "code",
   "execution_count": 353,
   "metadata": {},
   "outputs": [
    {
     "data": {
      "text/plain": [
       "75.25"
      ]
     },
     "execution_count": 353,
     "metadata": {},
     "output_type": "execute_result"
    }
   ],
   "source": [
    "data.Rank.quantile(0.75) # Calculate the nth percentile of the 'Rank' column"
   ]
  },
  {
   "cell_type": "code",
   "execution_count": 354,
   "metadata": {},
   "outputs": [
    {
     "name": "stdout",
     "output_type": "stream",
     "text": [
      "    Rank                                Bank Name\n",
      "0      1  Industrial and Commercial Bank of China\n",
      "1      2               Agricultural Bank of China\n",
      "2      3                  China Construction Bank\n",
      "3      4                            Bank of China\n",
      "4      5                           JPMorgan Chase\n",
      "..   ...                                      ...\n",
      "95    96                         Raiffeisen Group\n",
      "96    97                            Handelsbanken\n",
      "97    98                 Industrial Bank of Korea\n",
      "98    99                                      DNB\n",
      "99   100                      Qatar National Bank\n",
      "\n",
      "[100 rows x 2 columns]\n"
     ]
    }
   ],
   "source": [
    "print(data[['Rank', 'Bank Name']]) # Display specific columns of the DataFrame"
   ]
  },
  {
   "cell_type": "code",
   "execution_count": 355,
   "metadata": {},
   "outputs": [
    {
     "name": "stdout",
     "output_type": "stream",
     "text": [
      "   Rank                                Bank Name    Assets\n",
      "0     1  Industrial and Commercial Bank of China  6,303.44\n",
      "1     2               Agricultural Bank of China  5,623.12\n",
      "2     3                  China Construction Bank  5,400.28\n",
      "3     4                            Bank of China  4,578.28\n",
      "4     5                           JPMorgan Chase  3,875.39\n",
      "5     6                          Bank of America  3,180.15\n",
      "6     7                                     HSBC  2,919.84\n",
      "7     8                              BNP Paribas  2,867.44\n",
      "8     9           Mitsubishi UFJ Financial Group  2,816.77\n",
      "9    10                          Crédit Agricole  2,736.95\n"
     ]
    }
   ],
   "source": [
    "print(data.head(10))"
   ]
  },
  {
   "cell_type": "markdown",
   "metadata": {},
   "source": [
    "If you know the column number the access the data by name using \"iat\" function but if you are aware about the the column index number then try to access by that using \"at\" function because it is bit fast than iat"
   ]
  },
  {
   "cell_type": "code",
   "execution_count": 356,
   "metadata": {},
   "outputs": [
    {
     "name": "stdout",
     "output_type": "stream",
     "text": [
      "Industrial and Commercial Bank of China\n",
      "6,303.44\n"
     ]
    }
   ],
   "source": [
    "print(data.at[0, 'Bank Name']) # Access a specific cell by label\n",
    "print(data.iat[0, 2]) # Access a specific cell by index position"
   ]
  },
  {
   "cell_type": "code",
   "execution_count": 357,
   "metadata": {},
   "outputs": [],
   "source": [
    "data.columns = data.columns.str.lower().str.replace(' ', '_')"
   ]
  },
  {
   "cell_type": "code",
   "execution_count": 358,
   "metadata": {},
   "outputs": [
    {
     "name": "stdout",
     "output_type": "stream",
     "text": [
      "    rank                                bank_name    assets\n",
      "0      1  Industrial and Commercial Bank of China  6,303.44\n",
      "1      2               Agricultural Bank of China  5,623.12\n",
      "2      3                  China Construction Bank  5,400.28\n",
      "3      4                            Bank of China  4,578.28\n",
      "4      5                           JPMorgan Chase  3,875.39\n",
      "..   ...                                      ...       ...\n",
      "95    96                         Raiffeisen Group    352.87\n",
      "96    97                            Handelsbanken    351.79\n",
      "97    98                 Industrial Bank of Korea    345.81\n",
      "98    99                                      DNB    339.21\n",
      "99   100                      Qatar National Bank    338.14\n",
      "\n",
      "[100 rows x 3 columns]\n"
     ]
    }
   ],
   "source": [
    "print(data)"
   ]
  },
  {
   "cell_type": "code",
   "execution_count": 359,
   "metadata": {},
   "outputs": [
    {
     "name": "stdout",
     "output_type": "stream",
     "text": [
      "              Name            Team  Number Position   Age Height  Weight  \\\n",
      "0    Avery Bradley  Boston Celtics     0.0       PG  25.0    6-2   180.0   \n",
      "1      Jae Crowder  Boston Celtics    99.0       SF  25.0    6-6   235.0   \n",
      "2     John Holland  Boston Celtics    30.0       SG  27.0    6-5   205.0   \n",
      "3      R.J. Hunter  Boston Celtics    28.0       SG  22.0    6-5   185.0   \n",
      "4    Jonas Jerebko  Boston Celtics     8.0       PF  29.0   6-10   231.0   \n",
      "..             ...             ...     ...      ...   ...    ...     ...   \n",
      "453   Shelvin Mack       Utah Jazz     8.0       PG  26.0    6-3   203.0   \n",
      "454      Raul Neto       Utah Jazz    25.0       PG  24.0    6-1   179.0   \n",
      "455   Tibor Pleiss       Utah Jazz    21.0        C  26.0    7-3   256.0   \n",
      "456    Jeff Withey       Utah Jazz    24.0        C  26.0    7-0   231.0   \n",
      "457            NaN             NaN     NaN      NaN   NaN    NaN     NaN   \n",
      "\n",
      "               College     Salary  \n",
      "0                Texas  7730337.0  \n",
      "1            Marquette  6796117.0  \n",
      "2    Boston University        NaN  \n",
      "3        Georgia State  1148640.0  \n",
      "4                  NaN  5000000.0  \n",
      "..                 ...        ...  \n",
      "453             Butler  2433333.0  \n",
      "454                NaN   900000.0  \n",
      "455                NaN  2900000.0  \n",
      "456             Kansas   947276.0  \n",
      "457                NaN        NaN  \n",
      "\n",
      "[458 rows x 9 columns]\n"
     ]
    }
   ],
   "source": [
    "webscrap= pd.read_csv('https://media.geeksforgeeks.org/wp-content/uploads/nba.csv')\n",
    "dataframe= pd.DataFrame(webscrap)\n",
    "print(dataframe)"
   ]
  },
  {
   "cell_type": "code",
   "execution_count": 360,
   "metadata": {},
   "outputs": [
    {
     "data": {
      "application/vnd.microsoft.datawrangler.viewer.v0+json": {
       "columns": [
        {
         "name": "index",
         "rawType": "int64",
         "type": "integer"
        },
        {
         "name": "Name",
         "rawType": "object",
         "type": "string"
        },
        {
         "name": "Team",
         "rawType": "object",
         "type": "string"
        },
        {
         "name": "Number",
         "rawType": "float64",
         "type": "float"
        },
        {
         "name": "Position",
         "rawType": "object",
         "type": "string"
        },
        {
         "name": "Age",
         "rawType": "float64",
         "type": "float"
        },
        {
         "name": "Height",
         "rawType": "object",
         "type": "string"
        },
        {
         "name": "Weight",
         "rawType": "float64",
         "type": "float"
        },
        {
         "name": "College",
         "rawType": "object",
         "type": "string"
        },
        {
         "name": "Salary",
         "rawType": "float64",
         "type": "float"
        }
       ],
       "conversionMethod": "pd.DataFrame",
       "ref": "2f2a1101-4ec6-48e7-a57e-0afeb398385f",
       "rows": [
        [
         "0",
         "Avery Bradley",
         "Boston Celtics",
         "0.0",
         "PG",
         "25.0",
         "6-2",
         "180.0",
         "Texas",
         "7730337.0"
        ],
        [
         "1",
         "Jae Crowder",
         "Boston Celtics",
         "99.0",
         "SF",
         "25.0",
         "6-6",
         "235.0",
         "Marquette",
         "6796117.0"
        ],
        [
         "3",
         "R.J. Hunter",
         "Boston Celtics",
         "28.0",
         "SG",
         "22.0",
         "6-5",
         "185.0",
         "Georgia State",
         "1148640.0"
        ],
        [
         "6",
         "Jordan Mickey",
         "Boston Celtics",
         "55.0",
         "PF",
         "21.0",
         "6-8",
         "235.0",
         "LSU",
         "1170960.0"
        ],
        [
         "7",
         "Kelly Olynyk",
         "Boston Celtics",
         "41.0",
         "C",
         "25.0",
         "7-0",
         "238.0",
         "Gonzaga",
         "2165160.0"
        ],
        [
         "8",
         "Terry Rozier",
         "Boston Celtics",
         "12.0",
         "PG",
         "22.0",
         "6-2",
         "190.0",
         "Louisville",
         "1824360.0"
        ],
        [
         "9",
         "Marcus Smart",
         "Boston Celtics",
         "36.0",
         "PG",
         "22.0",
         "6-4",
         "220.0",
         "Oklahoma State",
         "3431040.0"
        ],
        [
         "10",
         "Jared Sullinger",
         "Boston Celtics",
         "7.0",
         "C",
         "24.0",
         "6-9",
         "260.0",
         "Ohio State",
         "2569260.0"
        ],
        [
         "11",
         "Isaiah Thomas",
         "Boston Celtics",
         "4.0",
         "PG",
         "27.0",
         "5-9",
         "185.0",
         "Washington",
         "6912869.0"
        ],
        [
         "12",
         "Evan Turner",
         "Boston Celtics",
         "11.0",
         "SG",
         "27.0",
         "6-7",
         "220.0",
         "Ohio State",
         "3425510.0"
        ],
        [
         "13",
         "James Young",
         "Boston Celtics",
         "13.0",
         "SG",
         "20.0",
         "6-6",
         "215.0",
         "Kentucky",
         "1749840.0"
        ],
        [
         "14",
         "Tyler Zeller",
         "Boston Celtics",
         "44.0",
         "C",
         "26.0",
         "7-0",
         "253.0",
         "North Carolina",
         "2616975.0"
        ],
        [
         "16",
         "Markel Brown",
         "Brooklyn Nets",
         "22.0",
         "SG",
         "24.0",
         "6-3",
         "190.0",
         "Oklahoma State",
         "845059.0"
        ],
        [
         "17",
         "Wayne Ellington",
         "Brooklyn Nets",
         "21.0",
         "SG",
         "28.0",
         "6-4",
         "200.0",
         "North Carolina",
         "1500000.0"
        ],
        [
         "18",
         "Rondae Hollis-Jefferson",
         "Brooklyn Nets",
         "24.0",
         "SG",
         "21.0",
         "6-7",
         "220.0",
         "Arizona",
         "1335480.0"
        ],
        [
         "19",
         "Jarrett Jack",
         "Brooklyn Nets",
         "2.0",
         "PG",
         "32.0",
         "6-3",
         "200.0",
         "Georgia Tech",
         "6300000.0"
        ],
        [
         "21",
         "Sean Kilpatrick",
         "Brooklyn Nets",
         "6.0",
         "SG",
         "26.0",
         "6-4",
         "219.0",
         "Cincinnati",
         "134215.0"
        ],
        [
         "22",
         "Shane Larkin",
         "Brooklyn Nets",
         "0.0",
         "PG",
         "23.0",
         "5-11",
         "175.0",
         "Miami (FL)",
         "1500000.0"
        ],
        [
         "23",
         "Brook Lopez",
         "Brooklyn Nets",
         "11.0",
         "C",
         "28.0",
         "7-0",
         "275.0",
         "Stanford",
         "19689000.0"
        ],
        [
         "24",
         "Chris McCullough",
         "Brooklyn Nets",
         "1.0",
         "PF",
         "21.0",
         "6-11",
         "200.0",
         "Syracuse",
         "1140240.0"
        ],
        [
         "25",
         "Willie Reed",
         "Brooklyn Nets",
         "33.0",
         "PF",
         "26.0",
         "6-10",
         "220.0",
         "Saint Louis",
         "947276.0"
        ],
        [
         "26",
         "Thomas Robinson",
         "Brooklyn Nets",
         "41.0",
         "PF",
         "25.0",
         "6-10",
         "237.0",
         "Kansas",
         "981348.0"
        ],
        [
         "27",
         "Henry Sims",
         "Brooklyn Nets",
         "14.0",
         "C",
         "26.0",
         "6-10",
         "248.0",
         "Georgetown",
         "947276.0"
        ],
        [
         "28",
         "Donald Sloan",
         "Brooklyn Nets",
         "15.0",
         "PG",
         "28.0",
         "6-3",
         "205.0",
         "Texas A&M",
         "947276.0"
        ],
        [
         "29",
         "Thaddeus Young",
         "Brooklyn Nets",
         "30.0",
         "PF",
         "27.0",
         "6-8",
         "221.0",
         "Georgia Tech",
         "11235955.0"
        ],
        [
         "30",
         "Arron Afflalo",
         "New York Knicks",
         "4.0",
         "SG",
         "30.0",
         "6-5",
         "210.0",
         "UCLA",
         "8000000.0"
        ],
        [
         "31",
         "Lou Amundson",
         "New York Knicks",
         "17.0",
         "PF",
         "33.0",
         "6-9",
         "220.0",
         "UNLV",
         "1635476.0"
        ],
        [
         "33",
         "Carmelo Anthony",
         "New York Knicks",
         "7.0",
         "SF",
         "32.0",
         "6-8",
         "240.0",
         "Syracuse",
         "22875000.0"
        ],
        [
         "35",
         "Cleanthony Early",
         "New York Knicks",
         "11.0",
         "SF",
         "25.0",
         "6-8",
         "210.0",
         "Wichita State",
         "845059.0"
        ],
        [
         "36",
         "Langston Galloway",
         "New York Knicks",
         "2.0",
         "SG",
         "24.0",
         "6-2",
         "200.0",
         "Saint Joseph's",
         "845059.0"
        ],
        [
         "37",
         "Jerian Grant",
         "New York Knicks",
         "13.0",
         "PG",
         "23.0",
         "6-4",
         "195.0",
         "Notre Dame",
         "1572360.0"
        ],
        [
         "38",
         "Robin Lopez",
         "New York Knicks",
         "8.0",
         "C",
         "28.0",
         "7-0",
         "255.0",
         "Stanford",
         "12650000.0"
        ],
        [
         "39",
         "Kyle O'Quinn",
         "New York Knicks",
         "9.0",
         "PF",
         "26.0",
         "6-10",
         "250.0",
         "Norfolk State",
         "3750000.0"
        ],
        [
         "42",
         "Lance Thomas",
         "New York Knicks",
         "42.0",
         "SF",
         "28.0",
         "6-8",
         "235.0",
         "Duke",
         "1636842.0"
        ],
        [
         "44",
         "Derrick Williams",
         "New York Knicks",
         "23.0",
         "PF",
         "25.0",
         "6-8",
         "240.0",
         "Arizona",
         "4000000.0"
        ],
        [
         "45",
         "Tony Wroten",
         "New York Knicks",
         "5.0",
         "SG",
         "23.0",
         "6-6",
         "205.0",
         "Washington",
         "167406.0"
        ],
        [
         "47",
         "Isaiah Canaan",
         "Philadelphia 76ers",
         "0.0",
         "PG",
         "25.0",
         "6-0",
         "201.0",
         "Murray State",
         "947276.0"
        ],
        [
         "48",
         "Robert Covington",
         "Philadelphia 76ers",
         "33.0",
         "SF",
         "25.0",
         "6-9",
         "215.0",
         "Tennessee State",
         "1000000.0"
        ],
        [
         "49",
         "Joel Embiid",
         "Philadelphia 76ers",
         "21.0",
         "C",
         "22.0",
         "7-0",
         "250.0",
         "Kansas",
         "4626960.0"
        ],
        [
         "50",
         "Jerami Grant",
         "Philadelphia 76ers",
         "39.0",
         "SF",
         "22.0",
         "6-8",
         "210.0",
         "Syracuse",
         "845059.0"
        ],
        [
         "51",
         "Richaun Holmes",
         "Philadelphia 76ers",
         "22.0",
         "PF",
         "22.0",
         "6-10",
         "245.0",
         "Bowling Green",
         "1074169.0"
        ],
        [
         "52",
         "Carl Landry",
         "Philadelphia 76ers",
         "7.0",
         "PF",
         "32.0",
         "6-9",
         "248.0",
         "Purdue",
         "6500000.0"
        ],
        [
         "53",
         "Kendall Marshall",
         "Philadelphia 76ers",
         "5.0",
         "PG",
         "24.0",
         "6-4",
         "200.0",
         "North Carolina",
         "2144772.0"
        ],
        [
         "54",
         "T.J. McConnell",
         "Philadelphia 76ers",
         "12.0",
         "PG",
         "24.0",
         "6-2",
         "200.0",
         "Arizona",
         "525093.0"
        ],
        [
         "55",
         "Nerlens Noel",
         "Philadelphia 76ers",
         "4.0",
         "PF",
         "22.0",
         "6-11",
         "228.0",
         "Kentucky",
         "3457800.0"
        ],
        [
         "56",
         "Jahlil Okafor",
         "Philadelphia 76ers",
         "8.0",
         "C",
         "20.0",
         "6-11",
         "275.0",
         "Duke",
         "4582680.0"
        ],
        [
         "57",
         "Ish Smith",
         "Philadelphia 76ers",
         "1.0",
         "PG",
         "27.0",
         "6-0",
         "175.0",
         "Wake Forest",
         "947276.0"
        ],
        [
         "58",
         "Nik Stauskas",
         "Philadelphia 76ers",
         "11.0",
         "SG",
         "22.0",
         "6-6",
         "205.0",
         "Michigan",
         "2869440.0"
        ],
        [
         "59",
         "Hollis Thompson",
         "Philadelphia 76ers",
         "31.0",
         "SG",
         "25.0",
         "6-8",
         "206.0",
         "Georgetown",
         "947276.0"
        ],
        [
         "60",
         "Christian Wood",
         "Philadelphia 76ers",
         "35.0",
         "PF",
         "20.0",
         "6-11",
         "220.0",
         "UNLV",
         "525093.0"
        ]
       ],
       "shape": {
        "columns": 9,
        "rows": 364
       }
      },
      "text/html": [
       "<div>\n",
       "<style scoped>\n",
       "    .dataframe tbody tr th:only-of-type {\n",
       "        vertical-align: middle;\n",
       "    }\n",
       "\n",
       "    .dataframe tbody tr th {\n",
       "        vertical-align: top;\n",
       "    }\n",
       "\n",
       "    .dataframe thead th {\n",
       "        text-align: right;\n",
       "    }\n",
       "</style>\n",
       "<table border=\"1\" class=\"dataframe\">\n",
       "  <thead>\n",
       "    <tr style=\"text-align: right;\">\n",
       "      <th></th>\n",
       "      <th>Name</th>\n",
       "      <th>Team</th>\n",
       "      <th>Number</th>\n",
       "      <th>Position</th>\n",
       "      <th>Age</th>\n",
       "      <th>Height</th>\n",
       "      <th>Weight</th>\n",
       "      <th>College</th>\n",
       "      <th>Salary</th>\n",
       "    </tr>\n",
       "  </thead>\n",
       "  <tbody>\n",
       "    <tr>\n",
       "      <th>0</th>\n",
       "      <td>Avery Bradley</td>\n",
       "      <td>Boston Celtics</td>\n",
       "      <td>0.0</td>\n",
       "      <td>PG</td>\n",
       "      <td>25.0</td>\n",
       "      <td>6-2</td>\n",
       "      <td>180.0</td>\n",
       "      <td>Texas</td>\n",
       "      <td>7730337.0</td>\n",
       "    </tr>\n",
       "    <tr>\n",
       "      <th>1</th>\n",
       "      <td>Jae Crowder</td>\n",
       "      <td>Boston Celtics</td>\n",
       "      <td>99.0</td>\n",
       "      <td>SF</td>\n",
       "      <td>25.0</td>\n",
       "      <td>6-6</td>\n",
       "      <td>235.0</td>\n",
       "      <td>Marquette</td>\n",
       "      <td>6796117.0</td>\n",
       "    </tr>\n",
       "    <tr>\n",
       "      <th>3</th>\n",
       "      <td>R.J. Hunter</td>\n",
       "      <td>Boston Celtics</td>\n",
       "      <td>28.0</td>\n",
       "      <td>SG</td>\n",
       "      <td>22.0</td>\n",
       "      <td>6-5</td>\n",
       "      <td>185.0</td>\n",
       "      <td>Georgia State</td>\n",
       "      <td>1148640.0</td>\n",
       "    </tr>\n",
       "    <tr>\n",
       "      <th>6</th>\n",
       "      <td>Jordan Mickey</td>\n",
       "      <td>Boston Celtics</td>\n",
       "      <td>55.0</td>\n",
       "      <td>PF</td>\n",
       "      <td>21.0</td>\n",
       "      <td>6-8</td>\n",
       "      <td>235.0</td>\n",
       "      <td>LSU</td>\n",
       "      <td>1170960.0</td>\n",
       "    </tr>\n",
       "    <tr>\n",
       "      <th>7</th>\n",
       "      <td>Kelly Olynyk</td>\n",
       "      <td>Boston Celtics</td>\n",
       "      <td>41.0</td>\n",
       "      <td>C</td>\n",
       "      <td>25.0</td>\n",
       "      <td>7-0</td>\n",
       "      <td>238.0</td>\n",
       "      <td>Gonzaga</td>\n",
       "      <td>2165160.0</td>\n",
       "    </tr>\n",
       "    <tr>\n",
       "      <th>...</th>\n",
       "      <td>...</td>\n",
       "      <td>...</td>\n",
       "      <td>...</td>\n",
       "      <td>...</td>\n",
       "      <td>...</td>\n",
       "      <td>...</td>\n",
       "      <td>...</td>\n",
       "      <td>...</td>\n",
       "      <td>...</td>\n",
       "    </tr>\n",
       "    <tr>\n",
       "      <th>449</th>\n",
       "      <td>Rodney Hood</td>\n",
       "      <td>Utah Jazz</td>\n",
       "      <td>5.0</td>\n",
       "      <td>SG</td>\n",
       "      <td>23.0</td>\n",
       "      <td>6-8</td>\n",
       "      <td>206.0</td>\n",
       "      <td>Duke</td>\n",
       "      <td>1348440.0</td>\n",
       "    </tr>\n",
       "    <tr>\n",
       "      <th>451</th>\n",
       "      <td>Chris Johnson</td>\n",
       "      <td>Utah Jazz</td>\n",
       "      <td>23.0</td>\n",
       "      <td>SF</td>\n",
       "      <td>26.0</td>\n",
       "      <td>6-6</td>\n",
       "      <td>206.0</td>\n",
       "      <td>Dayton</td>\n",
       "      <td>981348.0</td>\n",
       "    </tr>\n",
       "    <tr>\n",
       "      <th>452</th>\n",
       "      <td>Trey Lyles</td>\n",
       "      <td>Utah Jazz</td>\n",
       "      <td>41.0</td>\n",
       "      <td>PF</td>\n",
       "      <td>20.0</td>\n",
       "      <td>6-10</td>\n",
       "      <td>234.0</td>\n",
       "      <td>Kentucky</td>\n",
       "      <td>2239800.0</td>\n",
       "    </tr>\n",
       "    <tr>\n",
       "      <th>453</th>\n",
       "      <td>Shelvin Mack</td>\n",
       "      <td>Utah Jazz</td>\n",
       "      <td>8.0</td>\n",
       "      <td>PG</td>\n",
       "      <td>26.0</td>\n",
       "      <td>6-3</td>\n",
       "      <td>203.0</td>\n",
       "      <td>Butler</td>\n",
       "      <td>2433333.0</td>\n",
       "    </tr>\n",
       "    <tr>\n",
       "      <th>456</th>\n",
       "      <td>Jeff Withey</td>\n",
       "      <td>Utah Jazz</td>\n",
       "      <td>24.0</td>\n",
       "      <td>C</td>\n",
       "      <td>26.0</td>\n",
       "      <td>7-0</td>\n",
       "      <td>231.0</td>\n",
       "      <td>Kansas</td>\n",
       "      <td>947276.0</td>\n",
       "    </tr>\n",
       "  </tbody>\n",
       "</table>\n",
       "<p>364 rows × 9 columns</p>\n",
       "</div>"
      ],
      "text/plain": [
       "              Name            Team  Number Position   Age Height  Weight  \\\n",
       "0    Avery Bradley  Boston Celtics     0.0       PG  25.0    6-2   180.0   \n",
       "1      Jae Crowder  Boston Celtics    99.0       SF  25.0    6-6   235.0   \n",
       "3      R.J. Hunter  Boston Celtics    28.0       SG  22.0    6-5   185.0   \n",
       "6    Jordan Mickey  Boston Celtics    55.0       PF  21.0    6-8   235.0   \n",
       "7     Kelly Olynyk  Boston Celtics    41.0        C  25.0    7-0   238.0   \n",
       "..             ...             ...     ...      ...   ...    ...     ...   \n",
       "449    Rodney Hood       Utah Jazz     5.0       SG  23.0    6-8   206.0   \n",
       "451  Chris Johnson       Utah Jazz    23.0       SF  26.0    6-6   206.0   \n",
       "452     Trey Lyles       Utah Jazz    41.0       PF  20.0   6-10   234.0   \n",
       "453   Shelvin Mack       Utah Jazz     8.0       PG  26.0    6-3   203.0   \n",
       "456    Jeff Withey       Utah Jazz    24.0        C  26.0    7-0   231.0   \n",
       "\n",
       "           College     Salary  \n",
       "0            Texas  7730337.0  \n",
       "1        Marquette  6796117.0  \n",
       "3    Georgia State  1148640.0  \n",
       "6              LSU  1170960.0  \n",
       "7          Gonzaga  2165160.0  \n",
       "..             ...        ...  \n",
       "449           Duke  1348440.0  \n",
       "451         Dayton   981348.0  \n",
       "452       Kentucky  2239800.0  \n",
       "453         Butler  2433333.0  \n",
       "456         Kansas   947276.0  \n",
       "\n",
       "[364 rows x 9 columns]"
      ]
     },
     "execution_count": 360,
     "metadata": {},
     "output_type": "execute_result"
    }
   ],
   "source": [
    "dataframe.isnull().sum() # Check for missing values in the DataFrame\n",
    "dataframe.fillna(0) # Fill missing values with 0\n",
    "dataframe.dropna() # Drop rows with missing values"
   ]
  },
  {
   "cell_type": "code",
   "execution_count": null,
   "metadata": {},
   "outputs": [],
   "source": [
    "dataframe_1= dataframe.fillna(0) # Fill missing values with 0\n",
    "datafram_2= dataframe_1.dropna() # Drop columns with missing values\n",
    "datafram_2.to_csv('output1.csv', index=False) # Write the DataFrame to a CSV file"
   ]
  }
 ],
 "metadata": {
  "kernelspec": {
   "display_name": "base",
   "language": "python",
   "name": "python3"
  },
  "language_info": {
   "codemirror_mode": {
    "name": "ipython",
    "version": 3
   },
   "file_extension": ".py",
   "mimetype": "text/x-python",
   "name": "python",
   "nbconvert_exporter": "python",
   "pygments_lexer": "ipython3",
   "version": "3.12.4"
  }
 },
 "nbformat": 4,
 "nbformat_minor": 2
}
