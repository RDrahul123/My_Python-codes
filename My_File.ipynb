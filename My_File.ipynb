{
 "cells": [
  {
   "cell_type": "markdown",
   "metadata": {},
   "source": [
    "# Heading!!\n",
    "## Markdown Subheading\n",
    "### Markdown Paragraph"
   ]
  },
  {
   "cell_type": "code",
   "execution_count": null,
   "metadata": {},
   "outputs": [],
   "source": [
    "print(\"Hello World\")\n",
    "print(\"Nameste Duniya\")"
   ]
  },
  {
   "cell_type": "markdown",
   "metadata": {},
   "source": [
    "\n",
    "\n",
    "\n",
    "# Sum of two Numbers"
   ]
  },
  {
   "cell_type": "code",
   "execution_count": null,
   "metadata": {},
   "outputs": [],
   "source": [
    "x=9\n",
    "y=8\n",
    "print(x+y)"
   ]
  },
  {
   "cell_type": "markdown",
   "metadata": {},
   "source": [
    "# List Operations"
   ]
  },
  {
   "cell_type": "code",
   "execution_count": null,
   "metadata": {},
   "outputs": [],
   "source": [
    "mylist= [1,2,3,4,5]\n",
    "print(mylist)\n",
    "mylist.append(6)\n",
    "print(mylist)\n",
    "mylist.remove(3)\n",
    "print(mylist)\n",
    "mylist.insert(2,3)\n",
    "print(mylist)"
   ]
  },
  {
   "cell_type": "markdown",
   "metadata": {},
   "source": [
    "# Tuple Operations"
   ]
  },
  {
   "cell_type": "code",
   "execution_count": null,
   "metadata": {},
   "outputs": [],
   "source": [
    "mytuple= (1,2,3,4,5)\n",
    "print(mytuple)\n",
    "print(mytuple[2])\n",
    "mytuple= mytuple + (6,)\n",
    "print(mytuple)\n",
    "print(mytuple.count(3))\n",
    "print(mytuple.index(3))"
   ]
  },
  {
   "cell_type": "markdown",
   "metadata": {},
   "source": [
    "# Dictionaries Operations"
   ]
  },
  {
   "cell_type": "code",
   "execution_count": null,
   "metadata": {},
   "outputs": [],
   "source": [
    "mydict= {'a':1, 'b':2, 'c':3}\n",
    "print(mydict)\n",
    "mydict.update({'d': 4})\n",
    "print(mydict)"
   ]
  },
  {
   "cell_type": "markdown",
   "metadata": {},
   "source": [
    "# Numpy"
   ]
  },
  {
   "cell_type": "code",
   "execution_count": null,
   "metadata": {},
   "outputs": [],
   "source": [
    "import numpy as np\n"
   ]
  },
  {
   "cell_type": "code",
   "execution_count": null,
   "metadata": {},
   "outputs": [],
   "source": [
    "list1= np.array([1, 2, 3]) \n",
    "tuple1= np.array((\"1\", \"2\", \"3\"))\n",
    "print(list1)\n",
    "print(tuple1)\n",
    "print(list1.ndim)\n",
    "print(tuple1.ndim)"
   ]
  },
  {
   "cell_type": "code",
   "execution_count": null,
   "metadata": {},
   "outputs": [],
   "source": [
    "print(type(list1))\n",
    "print(list1.dtype)"
   ]
  },
  {
   "cell_type": "code",
   "execution_count": null,
   "metadata": {},
   "outputs": [],
   "source": [
    "list2= np.array([\"1\", \"2\", \"5\"], dtype= \"i\")\n",
    "print(list1[2])"
   ]
  },
  {
   "cell_type": "code",
   "execution_count": null,
   "metadata": {},
   "outputs": [],
   "source": [
    "list2= list1.copy()\n",
    "list2[0]= 5\n",
    "print(list1)\n",
    "print(list2)"
   ]
  },
  {
   "cell_type": "code",
   "execution_count": null,
   "metadata": {},
   "outputs": [],
   "source": [
    "list3= list2.view()\n",
    "list3[0]= 7\n",
    "print(list3)\n",
    "print(list2)"
   ]
  },
  {
   "cell_type": "code",
   "execution_count": null,
   "metadata": {},
   "outputs": [],
   "source": [
    "list4= np.array((1, 2, 3, 4, 5, 6, 7, 8, 9, 10, 11, 12))\n",
    "newarray= list4.reshape(4,3)\n",
    "print(newarray)\n",
    "#newarray= list4.reshape(-1)\n",
    "#print(newarray)"
   ]
  },
  {
   "cell_type": "code",
   "execution_count": null,
   "metadata": {},
   "outputs": [],
   "source": [
    "newarray[:, [2,0]]= newarray[:, [0,2]]\n",
    "print(newarray)"
   ]
  },
  {
   "cell_type": "code",
   "execution_count": null,
   "metadata": {},
   "outputs": [],
   "source": [
    "sortarray= np.array([3, 2, 0, 1, 8, 6, 4, 5, 7])\n",
    "print(np.sort(sortarray))"
   ]
  },
  {
   "cell_type": "code",
   "execution_count": null,
   "metadata": {},
   "outputs": [],
   "source": [
    "sortarr= np.array(['Lakshy', 'Aman', 'Nandini', 'Diya', 'Rahul', 'Aman'])\n",
    "print(np.sort(sortarr))"
   ]
  },
  {
   "cell_type": "code",
   "execution_count": null,
   "metadata": {},
   "outputs": [],
   "source": [
    "sortarr= np.array(['Lakshy', 'Aman', 'Shyam', 'Diya'])\n",
    "x= [True, False, True, False]\n",
    "newarr= sortarr[x]\n",
    "print(newarr)\n",
    "#print(\"Reverse Order:\" ,sortarr[::-1])\n",
    "print(np.flip(sortarr, axis=0))"
   ]
  },
  {
   "cell_type": "code",
   "execution_count": null,
   "metadata": {},
   "outputs": [],
   "source": [
    "arr4= np.array([1, 2, 3, 4, 5, 6, 7, 8, 9, 10])\n",
    "condition= arr4>5\n",
    "newarr= arr4[condition]\n",
    "print(newarr)"
   ]
  },
  {
   "cell_type": "code",
   "execution_count": null,
   "metadata": {},
   "outputs": [],
   "source": [
    "print(arr4[2]+ arr4[5])\n",
    "print(arr4[2]- arr4[5])\n",
    "print(arr4[2]* arr4[5])\n",
    "print(arr4[2]/ arr4[5])\n",
    "print(arr4[2]% arr4[5])"
   ]
  },
  {
   "cell_type": "code",
   "execution_count": null,
   "metadata": {},
   "outputs": [],
   "source": [
    "arr5= np.array([1, 2, 3, 4, 5])\n",
    "arr6= np.array([6, 7, 8, 9, 10])\n",
    "print(np.add(arr5, arr6))  #Addition \n",
    "print(np.concatenate((arr5, arr6))) #Concatenation\n"
   ]
  },
  {
   "cell_type": "markdown",
   "metadata": {},
   "source": [
    "There is a difference between add and concate. Remember add function actually performs addition addition while concate function combines the values of an array."
   ]
  },
  {
   "cell_type": "code",
   "execution_count": null,
   "metadata": {},
   "outputs": [],
   "source": [
    "from numpy import random\n",
    "random.shuffle(arr5)\n",
    "print(arr5)\n",
    "random.permutation(arr5)\n",
    "print(arr5)\n",
    "print(arr5)"
   ]
  },
  {
   "cell_type": "code",
   "execution_count": null,
   "metadata": {},
   "outputs": [],
   "source": [
    "arr7= np.array([1, 2, 3, 4, 5, 6, 7, 8, 9, 10, 10, 11, 12, 12, 12, 13, 14, 15, 16, 17, 18, 19, 20, 21, 22])\n",
    "print(np.split(arr7, 5))\n",
    "print(arr7.shape)\n",
    "print(np.flip(arr7))\n",
    "print(np.unique(arr7))"
   ]
  },
  {
   "cell_type": "code",
   "execution_count": null,
   "metadata": {},
   "outputs": [],
   "source": [
    "np.savetxt('newfile4.csv', arr7)\n",
    "arr8= np.loadtxt('newfile4.csv')\n",
    "print(arr8)\n",
    "# print(np.load('newfile.npy'))"
   ]
  },
  {
   "cell_type": "markdown",
   "metadata": {},
   "source": [
    "## Leniar Algebra Operations"
   ]
  },
  {
   "cell_type": "code",
   "execution_count": null,
   "metadata": {},
   "outputs": [],
   "source": [
    "from numpy import linalg\n",
    "# import numpy as np\n",
    "a= np.array([[1, 2], [4, 5]])\n",
    "b= np.array([[7, 8], [10, 11]])\n",
    "\n",
    "# print(np.dot(a, b))\n",
    "# print(np.matmul(a, b))\n",
    "print(np.linalg.det(a))\n",
    "print(np.linalg.inv(a))\n",
    "print(np.linalg.matrix_rank(a))"
   ]
  },
  {
   "cell_type": "markdown",
   "metadata": {},
   "source": [
    "## np.randon.seed\n",
    "\n",
    "The np.random.seed() function is crucial for ensuring reproducibility in your code when generating random numbers. Without setting a seed, NumPy will produce different random numbers every time you run the code."
   ]
  },
  {
   "cell_type": "code",
   "execution_count": null,
   "metadata": {},
   "outputs": [],
   "source": [
    "np.random.seed(1)          # Ensures reproducibility\n",
    "#print(np.random.rand(3, 3)) # Uniform distribution\n",
    "print(np.random.randn(3, 3))# Normal distribution\n",
    "print(np.random.randint(1, 10, (3, 3))) # Random integers\n",
    "print(np.random.choice(['a', 'e', 'i', 'o', 'u'], 4)) # Random choice"
   ]
  },
  {
   "cell_type": "code",
   "execution_count": null,
   "metadata": {},
   "outputs": [],
   "source": [
    "print(np.random.choice([1, 2, 3, 4, 5], size= (3, 3))) # Random choice\n",
    "print(np.random.permutation([1, 2, 3, 4, 5])) # Random permutation"
   ]
  },
  {
   "cell_type": "code",
   "execution_count": null,
   "metadata": {},
   "outputs": [],
   "source": [
    "# Save an array to a CSV file\n",
    "np.savetxt('array_data.csv', arr7, delimiter=',')\n",
    "\n",
    "# Load the array back from the CSV file\n",
    "loaded_array = np.loadtxt('array_data.csv', delimiter=',')\n",
    "print(\"Loaded Array:\")\n",
    "print(loaded_array)\n",
    "\n",
    "np.save('array_data.npy', arr7) # Save an array to a binary file\n",
    "loaded_array = np.load('array_data.npy') # Load the array back from the binary file\n",
    "print(\"Loaded Array:\")\n",
    "print(loaded_array)"
   ]
  },
  {
   "cell_type": "code",
   "execution_count": null,
   "metadata": {},
   "outputs": [],
   "source": [
    "arr56= np.array([1, 2, 3, 4, 5, 6])\n",
    "print(np.mean(56))\n",
    "print(np.median(arr56))\n",
    "print(np.sum(arr56))"
   ]
  },
  {
   "cell_type": "markdown",
   "metadata": {},
   "source": [
    "# Pandas"
   ]
  },
  {
   "cell_type": "markdown",
   "metadata": {},
   "source": [
    "In pandas data is stored in the format of Dictionary and hence key value pairs are required. On the other hand data shown in the output is in the form of table for better understability and apperance. "
   ]
  },
  {
   "cell_type": "code",
   "execution_count": null,
   "metadata": {},
   "outputs": [],
   "source": [
    "import pandas as pd"
   ]
  },
  {
   "cell_type": "code",
   "execution_count": null,
   "metadata": {},
   "outputs": [],
   "source": [
    "dict= { 'Name': ['Rahul' , 'Ram', 'shyam'], \n",
    "       'Age': ['26', '14', '17'],\n",
    "       'City': ['Indore', 'Pune', 'Mumbai']\n",
    "}\n",
    "\n",
    "a= pd.DataFrame(dict)\n",
    "print(a)"
   ]
  },
  {
   "cell_type": "code",
   "execution_count": null,
   "metadata": {},
   "outputs": [],
   "source": [
    "data= [10, 20, 30, 40, 50]\n",
    "series= pd.Series(data, index=[1, 2, 3, 4, 5])\n",
    "print(series)"
   ]
  },
  {
   "cell_type": "code",
   "execution_count": null,
   "metadata": {},
   "outputs": [],
   "source": [
    "data = {\n",
    "    'Name': ['Alice', 'Bob', 'Charlie'],\n",
    "    'Age': [25, 30, 35],\n",
    "    'City': ['New York', 'Los Angeles', 'Chicago'], \n",
    "    'Gender': ['M', 'M', 'F']\n",
    "}\n",
    "\n",
    "df = pd.DataFrame(data, index=['a', 'b', 'c'])\n",
    "print(df)"
   ]
  },
  {
   "cell_type": "markdown",
   "metadata": {},
   "source": [
    "# Operations on DataFrame"
   ]
  },
  {
   "cell_type": "code",
   "execution_count": null,
   "metadata": {},
   "outputs": [],
   "source": [
    "print(df.head()) # Display the first 5 rows of the DataFrame"
   ]
  },
  {
   "cell_type": "code",
   "execution_count": null,
   "metadata": {},
   "outputs": [],
   "source": [
    "print(df.tail()) # Display the last 5 rows of the DataFrame "
   ]
  },
  {
   "cell_type": "code",
   "execution_count": null,
   "metadata": {},
   "outputs": [],
   "source": [
    "print(df.info()) # Display information about the DataFrame"
   ]
  },
  {
   "cell_type": "code",
   "execution_count": null,
   "metadata": {},
   "outputs": [],
   "source": [
    "print(df.describe()) # Display summary statistics of the DataFrame"
   ]
  },
  {
   "cell_type": "code",
   "execution_count": null,
   "metadata": {},
   "outputs": [],
   "source": [
    "print(df.loc['a']) # Access row by label"
   ]
  },
  {
   "cell_type": "code",
   "execution_count": null,
   "metadata": {},
   "outputs": [],
   "source": [
    "print(df['Age']>30) # Boolean indexing"
   ]
  },
  {
   "cell_type": "code",
   "execution_count": null,
   "metadata": {},
   "outputs": [],
   "source": [
    "print(df[df['Age']>30]) # Filter rows based on condition"
   ]
  },
  {
   "cell_type": "code",
   "execution_count": null,
   "metadata": {},
   "outputs": [],
   "source": [
    "print(df.iloc[0]) # Access row by index position\n",
    "# print(df.iloc[1]) # Access row by index position"
   ]
  },
  {
   "cell_type": "code",
   "execution_count": null,
   "metadata": {},
   "outputs": [],
   "source": [
    "print(df.iloc[0:2]) # Access multiple rows by index position    "
   ]
  },
  {
   "cell_type": "code",
   "execution_count": null,
   "metadata": {},
   "outputs": [],
   "source": [
    "print(df.iloc[:, 1]) # Access a specific column by index position\n",
    "print(df.iloc[:, 1:3]) # Access multiple columns by index position"
   ]
  },
  {
   "cell_type": "markdown",
   "metadata": {},
   "source": [
    "# Reading Json file\n",
    "Here we are going to read a json file Top 100 Largest Banks.json and then will perform data manipulation in this json file. "
   ]
  },
  {
   "cell_type": "code",
   "execution_count": null,
   "metadata": {},
   "outputs": [],
   "source": [
    "data= pd.read_json('Top 100 Largest Banks.json') # Read a CSV file into a DataFrame\n",
    "print(data)"
   ]
  },
  {
   "cell_type": "markdown",
   "metadata": {},
   "source": [
    "Writing CSV file"
   ]
  },
  {
   "cell_type": "code",
   "execution_count": null,
   "metadata": {},
   "outputs": [],
   "source": [
    "data.to_csv('output.csv', index=False) # Write the DataFrame to a CSV file\n",
    "data.to_excel('output.xlsx', index=False) # Write the DataFrame to an Excel file"
   ]
  },
  {
   "cell_type": "markdown",
   "metadata": {},
   "source": [
    "Checking Null values in The above CSV file"
   ]
  },
  {
   "cell_type": "code",
   "execution_count": null,
   "metadata": {},
   "outputs": [],
   "source": [
    "data.isnull().sum() # Check for missing values in the DataFrame\n",
    "# data.dropna() # Drop rows with missing values\n",
    "# data.fillna(0) # Fill missing values with 0"
   ]
  },
  {
   "cell_type": "markdown",
   "metadata": {},
   "source": [
    "Single and Multiple Conditions"
   ]
  },
  {
   "cell_type": "code",
   "execution_count": null,
   "metadata": {},
   "outputs": [],
   "source": [
    "data[data[\"Rank\"]< 10] # Filter rows based on condition"
   ]
  },
  {
   "cell_type": "markdown",
   "metadata": {},
   "source": [
    "Renaming the file"
   ]
  },
  {
   "cell_type": "code",
   "execution_count": null,
   "metadata": {},
   "outputs": [],
   "source": [
    "data= pd.read_csv('output.csv') # Read a CSV file into a DataFrame\n",
    "print(data.head()) # Display the first 5 rows of the DataFrame"
   ]
  },
  {
   "cell_type": "markdown",
   "metadata": {},
   "source": [
    "Renaming the column"
   ]
  },
  {
   "cell_type": "code",
   "execution_count": null,
   "metadata": {},
   "outputs": [],
   "source": [
    "data.rename(columns={'Total Assets (2023, US$ billion)': 'Assets'}, inplace=True)"
   ]
  },
  {
   "cell_type": "code",
   "execution_count": null,
   "metadata": {},
   "outputs": [],
   "source": [
    "data.head(10)"
   ]
  },
  {
   "cell_type": "code",
   "execution_count": null,
   "metadata": {},
   "outputs": [],
   "source": [
    "data.to_csv('output.csv', index=False) # Write the DataFrame to a CSV file"
   ]
  },
  {
   "cell_type": "code",
   "execution_count": null,
   "metadata": {},
   "outputs": [],
   "source": [
    "print(data.duplicated())"
   ]
  },
  {
   "cell_type": "code",
   "execution_count": null,
   "metadata": {},
   "outputs": [],
   "source": [
    "data.drop_duplicates()"
   ]
  },
  {
   "cell_type": "code",
   "execution_count": 187,
   "metadata": {},
   "outputs": [
    {
     "data": {
      "application/vnd.microsoft.datawrangler.viewer.v0+json": {
       "columns": [
        {
         "name": "index",
         "rawType": "object",
         "type": "string"
        },
        {
         "name": "Rank",
         "rawType": "float64",
         "type": "float"
        }
       ],
       "conversionMethod": "pd.DataFrame",
       "ref": "3e2a45ee-8f3f-4c39-bcd0-6917a6eacbee",
       "rows": [
        [
         "count",
         "100.0"
        ],
        [
         "mean",
         "50.5"
        ],
        [
         "std",
         "29.011491975882016"
        ],
        [
         "min",
         "1.0"
        ],
        [
         "25%",
         "25.75"
        ],
        [
         "50%",
         "50.5"
        ],
        [
         "75%",
         "75.25"
        ],
        [
         "max",
         "100.0"
        ]
       ],
       "shape": {
        "columns": 1,
        "rows": 8
       }
      },
      "text/html": [
       "<div>\n",
       "<style scoped>\n",
       "    .dataframe tbody tr th:only-of-type {\n",
       "        vertical-align: middle;\n",
       "    }\n",
       "\n",
       "    .dataframe tbody tr th {\n",
       "        vertical-align: top;\n",
       "    }\n",
       "\n",
       "    .dataframe thead th {\n",
       "        text-align: right;\n",
       "    }\n",
       "</style>\n",
       "<table border=\"1\" class=\"dataframe\">\n",
       "  <thead>\n",
       "    <tr style=\"text-align: right;\">\n",
       "      <th></th>\n",
       "      <th>Rank</th>\n",
       "    </tr>\n",
       "  </thead>\n",
       "  <tbody>\n",
       "    <tr>\n",
       "      <th>count</th>\n",
       "      <td>100.000000</td>\n",
       "    </tr>\n",
       "    <tr>\n",
       "      <th>mean</th>\n",
       "      <td>50.500000</td>\n",
       "    </tr>\n",
       "    <tr>\n",
       "      <th>std</th>\n",
       "      <td>29.011492</td>\n",
       "    </tr>\n",
       "    <tr>\n",
       "      <th>min</th>\n",
       "      <td>1.000000</td>\n",
       "    </tr>\n",
       "    <tr>\n",
       "      <th>25%</th>\n",
       "      <td>25.750000</td>\n",
       "    </tr>\n",
       "    <tr>\n",
       "      <th>50%</th>\n",
       "      <td>50.500000</td>\n",
       "    </tr>\n",
       "    <tr>\n",
       "      <th>75%</th>\n",
       "      <td>75.250000</td>\n",
       "    </tr>\n",
       "    <tr>\n",
       "      <th>max</th>\n",
       "      <td>100.000000</td>\n",
       "    </tr>\n",
       "  </tbody>\n",
       "</table>\n",
       "</div>"
      ],
      "text/plain": [
       "             Rank\n",
       "count  100.000000\n",
       "mean    50.500000\n",
       "std     29.011492\n",
       "min      1.000000\n",
       "25%     25.750000\n",
       "50%     50.500000\n",
       "75%     75.250000\n",
       "max    100.000000"
      ]
     },
     "execution_count": 187,
     "metadata": {},
     "output_type": "execute_result"
    }
   ],
   "source": [
    "data.describe() # Display summary statistics of the DataFrame"
   ]
  },
  {
   "cell_type": "markdown",
   "metadata": {},
   "source": [
    "# Calculating nth percentile of a column"
   ]
  },
  {
   "cell_type": "code",
   "execution_count": 188,
   "metadata": {},
   "outputs": [
    {
     "data": {
      "text/plain": [
       "75.25"
      ]
     },
     "execution_count": 188,
     "metadata": {},
     "output_type": "execute_result"
    }
   ],
   "source": [
    "data.Rank.quantile(0.75) # Calculate the nth percentile of the 'Rank' column"
   ]
  },
  {
   "cell_type": "code",
   "execution_count": null,
   "metadata": {},
   "outputs": [],
   "source": [
    "print(data[['Rank', 'Bank Name']]) # Display specific columns of the DataFrame"
   ]
  },
  {
   "cell_type": "code",
   "execution_count": null,
   "metadata": {},
   "outputs": [],
   "source": [
    "print(data.head(10))"
   ]
  },
  {
   "cell_type": "markdown",
   "metadata": {},
   "source": [
    "If you know the column number the access the data by name using \"iat\" function but if you are aware about the the column index number then try to access by that using \"at\" function because it is bit fast than iat"
   ]
  },
  {
   "cell_type": "code",
   "execution_count": null,
   "metadata": {},
   "outputs": [
    {
     "name": "stdout",
     "output_type": "stream",
     "text": [
      "Industrial and Commercial Bank of China\n"
     ]
    }
   ],
   "source": [
    "print(data.at[0, 'Bank Name']) # Access a specific cell by label\n",
    "print(data.iat[0, 2]) # Access a specific cell by index position"
   ]
  },
  {
   "cell_type": "code",
   "execution_count": null,
   "metadata": {},
   "outputs": [],
   "source": []
  }
 ],
 "metadata": {
  "kernelspec": {
   "display_name": "base",
   "language": "python",
   "name": "python3"
  },
  "language_info": {
   "codemirror_mode": {
    "name": "ipython",
    "version": 3
   },
   "file_extension": ".py",
   "mimetype": "text/x-python",
   "name": "python",
   "nbconvert_exporter": "python",
   "pygments_lexer": "ipython3",
   "version": "3.12.4"
  }
 },
 "nbformat": 4,
 "nbformat_minor": 2
}
